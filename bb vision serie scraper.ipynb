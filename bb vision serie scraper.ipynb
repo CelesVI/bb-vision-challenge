{
 "cells": [
  {
   "cell_type": "code",
   "execution_count": 1,
   "metadata": {},
   "outputs": [],
   "source": [
    "from selenium import webdriver\n",
    "import pandas as pd"
   ]
  },
  {
   "cell_type": "code",
   "execution_count": 2,
   "metadata": {},
   "outputs": [],
   "source": [
    "url = \"https://www.starz.com/ar/es/series/the-white-queen/18124\""
   ]
  },
  {
   "cell_type": "code",
   "execution_count": 3,
   "metadata": {},
   "outputs": [],
   "source": [
    "driver = webdriver.Chrome(executable_path = r'chromedriver.exe')"
   ]
  },
  {
   "cell_type": "code",
   "execution_count": 4,
   "metadata": {},
   "outputs": [],
   "source": [
    "driver.get(url)"
   ]
  },
  {
   "cell_type": "code",
   "execution_count": 19,
   "metadata": {},
   "outputs": [],
   "source": [
    "titulo = driver.find_element_by_xpath('.//*[@id=\"seriesDetailsH1\"]').text"
   ]
  },
  {
   "cell_type": "code",
   "execution_count": 20,
   "metadata": {},
   "outputs": [
    {
     "data": {
      "text/plain": [
       "'The White Queen'"
      ]
     },
     "execution_count": 20,
     "metadata": {},
     "output_type": "execute_result"
    }
   ],
   "source": [
    "titulo"
   ]
  },
  {
   "cell_type": "code",
   "execution_count": 21,
   "metadata": {},
   "outputs": [],
   "source": [
    "clasificacion = driver.find_element_by_xpath('.//*[@id=\"subview-container\"]/starz-series-details/div[1]/section/div[1]/div[2]/ul/li[1]').text"
   ]
  },
  {
   "cell_type": "code",
   "execution_count": 22,
   "metadata": {},
   "outputs": [
    {
     "data": {
      "text/plain": [
       "'SAM16'"
      ]
     },
     "execution_count": 22,
     "metadata": {},
     "output_type": "execute_result"
    }
   ],
   "source": [
    "clasificacion"
   ]
  },
  {
   "cell_type": "code",
   "execution_count": 23,
   "metadata": {},
   "outputs": [],
   "source": [
    "episodios = driver.find_element_by_xpath('./html/body/starz-root/div/div[1]/section/starz-series-details/div[1]/section/div[1]/div[2]/ul/li[2]/span[1]').text +' '+ driver.find_element_by_xpath('.//*[@id=\"subview-container\"]/starz-series-details/div[1]/section/div[1]/div[2]/ul/li[2]/span[3]').text"
   ]
  },
  {
   "cell_type": "code",
   "execution_count": 24,
   "metadata": {},
   "outputs": [
    {
     "data": {
      "text/plain": [
       "'10 EPISODIOS'"
      ]
     },
     "execution_count": 24,
     "metadata": {},
     "output_type": "execute_result"
    }
   ],
   "source": [
    "episodios"
   ]
  },
  {
   "cell_type": "code",
   "execution_count": 25,
   "metadata": {},
   "outputs": [],
   "source": [
    "genero = driver.find_element_by_xpath('.//*[@id=\"subview-container\"]/starz-series-details/div[1]/section/div[1]/div[2]/ul/li[3]').text"
   ]
  },
  {
   "cell_type": "code",
   "execution_count": 26,
   "metadata": {},
   "outputs": [
    {
     "data": {
      "text/plain": [
       "'DRAMA, LITERARIA'"
      ]
     },
     "execution_count": 26,
     "metadata": {},
     "output_type": "execute_result"
    }
   ],
   "source": [
    "genero"
   ]
  },
  {
   "cell_type": "code",
   "execution_count": 27,
   "metadata": {},
   "outputs": [],
   "source": [
    "anio = driver.find_element_by_xpath('.//*[@id=\"subview-container\"]/starz-series-details/div[1]/section/div[1]/div[2]/ul/li[4]').text"
   ]
  },
  {
   "cell_type": "code",
   "execution_count": 28,
   "metadata": {},
   "outputs": [
    {
     "data": {
      "text/plain": [
       "'2013'"
      ]
     },
     "execution_count": 28,
     "metadata": {},
     "output_type": "execute_result"
    }
   ],
   "source": [
    "anio"
   ]
  },
  {
   "cell_type": "code",
   "execution_count": 31,
   "metadata": {},
   "outputs": [],
   "source": [
    "sinopsis = driver.find_element_by_xpath('.//*[@id=\"subview-container\"]/starz-series-details/div[1]/section/div[1]/div[2]/div[2]').text[:-8]"
   ]
  },
  {
   "cell_type": "code",
   "execution_count": 32,
   "metadata": {},
   "outputs": [
    {
     "data": {
      "text/plain": [
       "'\"The White Queen\" es una fascinante historia de amor y deseo, traición y asesinatos, en donde se tejen vibrantemente las historias de tres mujeres diferentes pero igualmente perseverantes: Isabel Woodwille, Margarita Beaufort y Anna Neville. En la búsqueda por el poder, conspirarán, manipularán y seducirán en el camino para llegar al trono de Inglaterra'"
      ]
     },
     "execution_count": 32,
     "metadata": {},
     "output_type": "execute_result"
    }
   ],
   "source": [
    "sinopsis"
   ]
  },
  {
   "cell_type": "code",
   "execution_count": 33,
   "metadata": {},
   "outputs": [],
   "source": [
    "lista_serie = []"
   ]
  },
  {
   "cell_type": "code",
   "execution_count": 34,
   "metadata": {},
   "outputs": [],
   "source": [
    "diccionario_serie = {\n",
    "    'titulo':titulo,\n",
    "    'clasificacion':clasificacion,\n",
    "    'episodios':episodios,\n",
    "    'genero':genero,\n",
    "    'año':anio,\n",
    "    'sinopsis':sinopsis\n",
    "}"
   ]
  },
  {
   "cell_type": "code",
   "execution_count": 35,
   "metadata": {},
   "outputs": [],
   "source": [
    "lista_serie.append(diccionario_serie)"
   ]
  },
  {
   "cell_type": "code",
   "execution_count": 36,
   "metadata": {},
   "outputs": [],
   "source": [
    "df = pd.DataFrame(lista_serie)"
   ]
  },
  {
   "cell_type": "code",
   "execution_count": 37,
   "metadata": {},
   "outputs": [
    {
     "data": {
      "text/html": [
       "<div>\n",
       "<style scoped>\n",
       "    .dataframe tbody tr th:only-of-type {\n",
       "        vertical-align: middle;\n",
       "    }\n",
       "\n",
       "    .dataframe tbody tr th {\n",
       "        vertical-align: top;\n",
       "    }\n",
       "\n",
       "    .dataframe thead th {\n",
       "        text-align: right;\n",
       "    }\n",
       "</style>\n",
       "<table border=\"1\" class=\"dataframe\">\n",
       "  <thead>\n",
       "    <tr style=\"text-align: right;\">\n",
       "      <th></th>\n",
       "      <th>titulo</th>\n",
       "      <th>clasificacion</th>\n",
       "      <th>episodios</th>\n",
       "      <th>genero</th>\n",
       "      <th>año</th>\n",
       "      <th>sinopsis</th>\n",
       "    </tr>\n",
       "  </thead>\n",
       "  <tbody>\n",
       "    <tr>\n",
       "      <th>0</th>\n",
       "      <td>The White Queen</td>\n",
       "      <td>SAM16</td>\n",
       "      <td>10 EPISODIOS</td>\n",
       "      <td>DRAMA, LITERARIA</td>\n",
       "      <td>2013</td>\n",
       "      <td>\"The White Queen\" es una fascinante historia d...</td>\n",
       "    </tr>\n",
       "  </tbody>\n",
       "</table>\n",
       "</div>"
      ],
      "text/plain": [
       "            titulo clasificacion     episodios            genero   año  \\\n",
       "0  The White Queen         SAM16  10 EPISODIOS  DRAMA, LITERARIA  2013   \n",
       "\n",
       "                                            sinopsis  \n",
       "0  \"The White Queen\" es una fascinante historia d...  "
      ]
     },
     "execution_count": 37,
     "metadata": {},
     "output_type": "execute_result"
    }
   ],
   "source": [
    "df"
   ]
  },
  {
   "cell_type": "code",
   "execution_count": 38,
   "metadata": {},
   "outputs": [],
   "source": [
    "df.to_csv('datasets/una_serie.csv')"
   ]
  },
  {
   "cell_type": "code",
   "execution_count": 39,
   "metadata": {},
   "outputs": [],
   "source": [
    "df.to_json('datasets/una_serie.json')"
   ]
  },
  {
   "cell_type": "code",
   "execution_count": 64,
   "metadata": {},
   "outputs": [],
   "source": [
    "lista_episodios = driver.find_elements_by_class_name('episodes-container')"
   ]
  },
  {
   "cell_type": "code",
   "execution_count": 65,
   "metadata": {},
   "outputs": [
    {
     "data": {
      "text/plain": [
       "[<selenium.webdriver.remote.webelement.WebElement (session=\"6f305f060d2424cea34bf176a449fac5\", element=\"9940f373-c4e5-462f-832b-252c06508306\")>]"
      ]
     },
     "execution_count": 65,
     "metadata": {},
     "output_type": "execute_result"
    }
   ],
   "source": [
    "lista_episodios"
   ]
  },
  {
   "cell_type": "code",
   "execution_count": 66,
   "metadata": {},
   "outputs": [],
   "source": [
    "links_episodios = []"
   ]
  },
  {
   "cell_type": "code",
   "execution_count": 80,
   "metadata": {},
   "outputs": [
    {
     "name": "stdout",
     "output_type": "stream",
     "text": [
      "[<selenium.webdriver.remote.webelement.WebElement (session=\"6f305f060d2424cea34bf176a449fac5\", element=\"aba2020a-39e4-4341-b7d4-e556010d562c\")>, <selenium.webdriver.remote.webelement.WebElement (session=\"6f305f060d2424cea34bf176a449fac5\", element=\"de4dda8a-7f3d-4220-8b39-914657814758\")>, <selenium.webdriver.remote.webelement.WebElement (session=\"6f305f060d2424cea34bf176a449fac5\", element=\"1370185b-e0ee-4062-95e2-20241a751e95\")>, <selenium.webdriver.remote.webelement.WebElement (session=\"6f305f060d2424cea34bf176a449fac5\", element=\"82fc8cce-f8e8-4bf2-ab95-9973d768747e\")>, <selenium.webdriver.remote.webelement.WebElement (session=\"6f305f060d2424cea34bf176a449fac5\", element=\"cefc99dc-f914-430a-9223-fd77d160038b\")>, <selenium.webdriver.remote.webelement.WebElement (session=\"6f305f060d2424cea34bf176a449fac5\", element=\"6f4e065e-ab21-4862-8e72-fc9a409b1311\")>, <selenium.webdriver.remote.webelement.WebElement (session=\"6f305f060d2424cea34bf176a449fac5\", element=\"b2cb33bf-1c3c-4c48-83f5-e016e5901f65\")>, <selenium.webdriver.remote.webelement.WebElement (session=\"6f305f060d2424cea34bf176a449fac5\", element=\"0a7dbfbd-8893-43f2-abe0-3499ee31e77d\")>, <selenium.webdriver.remote.webelement.WebElement (session=\"6f305f060d2424cea34bf176a449fac5\", element=\"98544165-6280-497c-9eff-775c4331b36c\")>, <selenium.webdriver.remote.webelement.WebElement (session=\"6f305f060d2424cea34bf176a449fac5\", element=\"b225b999-d8b3-416d-b684-03921dd12f84\")>, <selenium.webdriver.remote.webelement.WebElement (session=\"6f305f060d2424cea34bf176a449fac5\", element=\"6ff5adcb-3340-462f-ac3d-78a82b9809a8\")>, <selenium.webdriver.remote.webelement.WebElement (session=\"6f305f060d2424cea34bf176a449fac5\", element=\"e675a514-e788-4498-8517-ff1aaf5eaad6\")>, <selenium.webdriver.remote.webelement.WebElement (session=\"6f305f060d2424cea34bf176a449fac5\", element=\"4412fd51-6893-4ba0-b90b-f0b891846c57\")>, <selenium.webdriver.remote.webelement.WebElement (session=\"6f305f060d2424cea34bf176a449fac5\", element=\"057e3393-e3cc-42fa-b7b0-8a9fa996d3c6\")>, <selenium.webdriver.remote.webelement.WebElement (session=\"6f305f060d2424cea34bf176a449fac5\", element=\"924ef1b6-0659-4fe0-82ac-2ef1459b0110\")>, <selenium.webdriver.remote.webelement.WebElement (session=\"6f305f060d2424cea34bf176a449fac5\", element=\"c85b6676-cde6-4f89-814f-26c80a9c5521\")>, <selenium.webdriver.remote.webelement.WebElement (session=\"6f305f060d2424cea34bf176a449fac5\", element=\"8f6af985-016e-496d-915c-6266717d2b71\")>, <selenium.webdriver.remote.webelement.WebElement (session=\"6f305f060d2424cea34bf176a449fac5\", element=\"a4ecddc6-fb68-4f0b-ab27-b3ae298efe4b\")>, <selenium.webdriver.remote.webelement.WebElement (session=\"6f305f060d2424cea34bf176a449fac5\", element=\"76fabc21-cc60-4403-9766-265cf91d761f\")>, <selenium.webdriver.remote.webelement.WebElement (session=\"6f305f060d2424cea34bf176a449fac5\", element=\"9be37097-de02-4130-8b52-723ad5d4ba62\")>, <selenium.webdriver.remote.webelement.WebElement (session=\"6f305f060d2424cea34bf176a449fac5\", element=\"11b03348-814a-4073-9f8a-8d8dd81753dd\")>, <selenium.webdriver.remote.webelement.WebElement (session=\"6f305f060d2424cea34bf176a449fac5\", element=\"e5fcf2af-f37b-403c-b124-6d830b8ecb47\")>, <selenium.webdriver.remote.webelement.WebElement (session=\"6f305f060d2424cea34bf176a449fac5\", element=\"0aee658a-660c-448e-81f6-fa494067a566\")>, <selenium.webdriver.remote.webelement.WebElement (session=\"6f305f060d2424cea34bf176a449fac5\", element=\"17711ac7-5e6b-4c6e-b7c1-9221a2d1c783\")>, <selenium.webdriver.remote.webelement.WebElement (session=\"6f305f060d2424cea34bf176a449fac5\", element=\"a5b44b49-f52c-4b01-a03b-b99ada402733\")>, <selenium.webdriver.remote.webelement.WebElement (session=\"6f305f060d2424cea34bf176a449fac5\", element=\"21423139-6961-4ed9-8353-2f8ac4ace1b8\")>, <selenium.webdriver.remote.webelement.WebElement (session=\"6f305f060d2424cea34bf176a449fac5\", element=\"7333de9d-a9e5-4bbf-aa2f-4b409d01da9a\")>, <selenium.webdriver.remote.webelement.WebElement (session=\"6f305f060d2424cea34bf176a449fac5\", element=\"4f68e163-14c4-49ec-b59f-7632be3fb12d\")>, <selenium.webdriver.remote.webelement.WebElement (session=\"6f305f060d2424cea34bf176a449fac5\", element=\"5ef31b94-8361-4cbe-b99c-7fc480e9f4bf\")>, <selenium.webdriver.remote.webelement.WebElement (session=\"6f305f060d2424cea34bf176a449fac5\", element=\"f83f79f2-fcdd-4a07-a181-b70c197fcbb9\")>, <selenium.webdriver.remote.webelement.WebElement (session=\"6f305f060d2424cea34bf176a449fac5\", element=\"5b60be1f-3bce-4197-8d5a-916a4e4fffa7\")>]\n"
     ]
    }
   ],
   "source": [
    "for episodio in lista_episodios:\n",
    "    try:\n",
    "        href = episodio.find_elements_by_xpath('.//a')\n",
    "        print(href)\n",
    "        link = href.get_attribute('href')\n",
    "        print(link)\n",
    "        lista_episodios.append(link)\n",
    "    except AttributeError:\n",
    "        pass"
   ]
  },
  {
   "cell_type": "code",
   "execution_count": null,
   "metadata": {},
   "outputs": [],
   "source": []
  }
 ],
 "metadata": {
  "kernelspec": {
   "display_name": "Python 3",
   "language": "python",
   "name": "python3"
  },
  "language_info": {
   "codemirror_mode": {
    "name": "ipython",
    "version": 3
   },
   "file_extension": ".py",
   "mimetype": "text/x-python",
   "name": "python",
   "nbconvert_exporter": "python",
   "pygments_lexer": "ipython3",
   "version": "3.8.1"
  }
 },
 "nbformat": 4,
 "nbformat_minor": 4
}
