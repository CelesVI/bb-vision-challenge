{
 "cells": [
  {
   "cell_type": "code",
   "execution_count": 95,
   "metadata": {},
   "outputs": [],
   "source": [
    "from selenium import webdriver\n",
    "import pandas as pd\n"
   ]
  },
  {
   "cell_type": "code",
   "execution_count": 96,
   "metadata": {},
   "outputs": [],
   "source": [
    "url = \"https://www.starz.com/ar/es/series/the-white-queen/18124\""
   ]
  },
  {
   "cell_type": "code",
   "execution_count": 97,
   "metadata": {},
   "outputs": [],
   "source": [
    "driver = webdriver.Chrome(executable_path = r'chromedriver.exe')"
   ]
  },
  {
   "cell_type": "code",
   "execution_count": 98,
   "metadata": {},
   "outputs": [],
   "source": [
    "driver.get(url)"
   ]
  },
  {
   "cell_type": "code",
   "execution_count": 99,
   "metadata": {},
   "outputs": [],
   "source": [
    "titulo = driver.find_element_by_xpath('.//*[@id=\"seriesDetailsH1\"]').text"
   ]
  },
  {
   "cell_type": "code",
   "execution_count": 100,
   "metadata": {},
   "outputs": [
    {
     "data": {
      "text/plain": [
       "'The White Queen'"
      ]
     },
     "execution_count": 100,
     "metadata": {},
     "output_type": "execute_result"
    }
   ],
   "source": [
    "titulo"
   ]
  },
  {
   "cell_type": "code",
   "execution_count": 101,
   "metadata": {},
   "outputs": [],
   "source": [
    "clasificacion = driver.find_element_by_xpath('.//*[@id=\"subview-container\"]/starz-series-details/div[1]/section/div[1]/div[2]/ul/li[1]').text"
   ]
  },
  {
   "cell_type": "code",
   "execution_count": 102,
   "metadata": {},
   "outputs": [
    {
     "data": {
      "text/plain": [
       "'SAM16'"
      ]
     },
     "execution_count": 102,
     "metadata": {},
     "output_type": "execute_result"
    }
   ],
   "source": [
    "clasificacion"
   ]
  },
  {
   "cell_type": "code",
   "execution_count": 103,
   "metadata": {},
   "outputs": [],
   "source": [
    "episodios = driver.find_element_by_xpath('./html/body/starz-root/div/div[1]/section/starz-series-details/div[1]/section/div[1]/div[2]/ul/li[2]/span[1]').text +' '+ driver.find_element_by_xpath('.//*[@id=\"subview-container\"]/starz-series-details/div[1]/section/div[1]/div[2]/ul/li[2]/span[3]').text"
   ]
  },
  {
   "cell_type": "code",
   "execution_count": 104,
   "metadata": {},
   "outputs": [
    {
     "data": {
      "text/plain": [
       "'10 EPISODIOS'"
      ]
     },
     "execution_count": 104,
     "metadata": {},
     "output_type": "execute_result"
    }
   ],
   "source": [
    "episodios"
   ]
  },
  {
   "cell_type": "code",
   "execution_count": 105,
   "metadata": {},
   "outputs": [],
   "source": [
    "genero = driver.find_element_by_xpath('.//*[@id=\"subview-container\"]/starz-series-details/div[1]/section/div[1]/div[2]/ul/li[3]').text"
   ]
  },
  {
   "cell_type": "code",
   "execution_count": 106,
   "metadata": {},
   "outputs": [
    {
     "data": {
      "text/plain": [
       "'DRAMA, LITERARIA'"
      ]
     },
     "execution_count": 106,
     "metadata": {},
     "output_type": "execute_result"
    }
   ],
   "source": [
    "genero"
   ]
  },
  {
   "cell_type": "code",
   "execution_count": 107,
   "metadata": {},
   "outputs": [],
   "source": [
    "anio = driver.find_element_by_xpath('.//*[@id=\"subview-container\"]/starz-series-details/div[1]/section/div[1]/div[2]/ul/li[4]').text"
   ]
  },
  {
   "cell_type": "code",
   "execution_count": 108,
   "metadata": {},
   "outputs": [
    {
     "data": {
      "text/plain": [
       "'2013'"
      ]
     },
     "execution_count": 108,
     "metadata": {},
     "output_type": "execute_result"
    }
   ],
   "source": [
    "anio"
   ]
  },
  {
   "cell_type": "code",
   "execution_count": 109,
   "metadata": {},
   "outputs": [],
   "source": [
    "sinopsis = driver.find_element_by_xpath('.//*[@id=\"subview-container\"]/starz-series-details/div[1]/section/div[1]/div[2]/div[2]').text[:-8]"
   ]
  },
  {
   "cell_type": "code",
   "execution_count": 110,
   "metadata": {},
   "outputs": [
    {
     "data": {
      "text/plain": [
       "'\"The White Queen\" es una fascinante historia de amor y deseo, traición y asesinatos, en donde se tejen vibrantemente las historias de tres mujeres diferentes pero igualmen'"
      ]
     },
     "execution_count": 110,
     "metadata": {},
     "output_type": "execute_result"
    }
   ],
   "source": [
    "sinopsis"
   ]
  },
  {
   "cell_type": "code",
   "execution_count": 111,
   "metadata": {},
   "outputs": [],
   "source": [
    "lista_links = []"
   ]
  },
  {
   "cell_type": "code",
   "execution_count": 112,
   "metadata": {},
   "outputs": [],
   "source": [
    "for link in driver.find_elements_by_xpath('.//a'):\n",
    "    lista_links.append(link.get_attribute('href'))"
   ]
  },
  {
   "cell_type": "code",
   "execution_count": 113,
   "metadata": {},
   "outputs": [
    {
     "data": {
      "text/plain": [
       "['https://www.starz.com/ar/es/',\n",
       " 'https://www.starz.com/ar/es/',\n",
       " 'https://www.starz.com/ar/es/series',\n",
       " 'https://www.starz.com/ar/es/movies',\n",
       " 'https://www.starz.com/ar/es/search',\n",
       " 'https://www.starz.com/ar/es/login',\n",
       " 'https://www.starz.com/ar/es/signup',\n",
       " 'https://www.facebook.com/STARZPLAYLATAM/',\n",
       " 'https://twitter.com/starzplaylatam',\n",
       " 'https://www.instagram.com/starzplaylatam/',\n",
       " 'https://www.starz.com/ar/es/#',\n",
       " 'https://www.starz.com/ar/es/signup',\n",
       " 'https://www.facebook.com/STARZPLAYLATAM/',\n",
       " 'https://twitter.com/starzplaylatam',\n",
       " 'https://www.instagram.com/starzplaylatam/',\n",
       " 'https://www.starz.com/ar/es/#',\n",
       " 'https://www.starz.com/ar/es/series/the-white-queen/season-1/18331',\n",
       " 'https://www.starz.com/ar/es/play/18334',\n",
       " 'https://www.starz.com/ar/es/play/18334',\n",
       " 'https://www.starz.com/series/the-white-queen/season-1/episode-1/18334',\n",
       " 'https://www.starz.com/ar/es/play/18375',\n",
       " 'https://www.starz.com/ar/es/play/18375',\n",
       " 'https://www.starz.com/series/the-white-queen/season-1/episode-2/18375',\n",
       " 'https://www.starz.com/ar/es/play/18416',\n",
       " 'https://www.starz.com/ar/es/play/18416',\n",
       " 'https://www.starz.com/series/the-white-queen/season-1/episode-3/18416',\n",
       " 'https://www.starz.com/ar/es/play/18563',\n",
       " 'https://www.starz.com/ar/es/play/18563',\n",
       " 'https://www.starz.com/series/the-white-queen/season-1/episode-4/18563',\n",
       " 'https://www.starz.com/ar/es/play/18639',\n",
       " 'https://www.starz.com/ar/es/play/18639',\n",
       " 'https://www.starz.com/series/the-white-queen/season-1/episode-5/18639',\n",
       " 'https://www.starz.com/ar/es/play/18707',\n",
       " 'https://www.starz.com/ar/es/play/18707',\n",
       " 'https://www.starz.com/series/the-white-queen/season-1/episode-6/18707',\n",
       " 'https://www.starz.com/ar/es/play/18769',\n",
       " 'https://www.starz.com/ar/es/play/18769',\n",
       " 'https://www.starz.com/series/the-white-queen/season-1/episode-7/18769',\n",
       " 'https://www.starz.com/ar/es/play/18834',\n",
       " 'https://www.starz.com/ar/es/play/18834',\n",
       " 'https://www.starz.com/series/the-white-queen/season-1/episode-8/18834',\n",
       " 'https://www.starz.com/ar/es/play/18890',\n",
       " 'https://www.starz.com/ar/es/play/18890',\n",
       " 'https://www.starz.com/series/the-white-queen/season-1/episode-9/18890',\n",
       " 'https://www.starz.com/ar/es/play/18925',\n",
       " 'https://www.starz.com/ar/es/play/18925',\n",
       " 'https://www.starz.com/series/the-white-queen/season-1/episode-10/18925',\n",
       " 'https://www.starz.com/ar/es/browse/if-you-like/the-white-queen/18124',\n",
       " 'https://www.starz.com/ar/es/series/the-stand/61994',\n",
       " 'https://www.starz.com/ar/es/series/sweetbitter/37699',\n",
       " 'https://www.starz.com/ar/es/series/black-sails/19568',\n",
       " 'https://www.starz.com/ar/es/series/hightown/57463',\n",
       " 'https://www.starz.com/ar/es/series/pennyworth/57149',\n",
       " 'https://www.starz.com/ar/es/series/express/63120',\n",
       " 'https://www.starz.com/ar/es/series/power-book-iv-force/62261',\n",
       " 'https://www.starz.com/ar/es/series/baptiste/45713',\n",
       " 'https://www.starz.com/ar/es/series/the-great/57979',\n",
       " 'https://www.starz.com/ar/es/browse/originals',\n",
       " 'https://www.starz.com/ar/es/movies/el-sorprendente-hombre-ara%C3%B1a-2-la-amenaza-de-electro-50064',\n",
       " 'https://www.starz.com/ar/es/movies/oscura-seducci%C3%B3n-60743',\n",
       " 'https://www.starz.com/ar/es/movies/john-wick-2-un-nuevo-d%C3%ADa-para-matar-61327',\n",
       " 'https://www.starz.com/ar/es/movies/m%C3%A1s-fuerte-que-el-destino-62674',\n",
       " 'https://www.starz.com/ar/es/movies',\n",
       " 'https://www.starz.com/ar/es/series/the-great/57979',\n",
       " 'https://www.starz.com/ar/es/series/express/63120',\n",
       " 'https://www.starz.com/ar/es/series/the-act/46154',\n",
       " 'https://www.starz.com/ar/es/series/the-spanish-princess/42457',\n",
       " 'https://www.starz.com/ar/es/series',\n",
       " 'https://www.starz.com/ar/es/signup',\n",
       " 'https://www.starz.com/ar/es/login',\n",
       " 'https://www.starz.com/ar/es/faq',\n",
       " 'https://www.starz.com/ar/es/login/activate',\n",
       " 'https://www.starz.com/ar/es/supporteddevices',\n",
       " 'https://www.facebook.com/STARZPLAYLATAM/',\n",
       " 'https://twitter.com/starzplaylatam',\n",
       " 'https://www.instagram.com/starzplaylatam/',\n",
       " 'https://www.facebook.com/STARZPLAYLATAM/',\n",
       " 'https://twitter.com/starzplaylatam',\n",
       " 'https://www.instagram.com/starzplaylatam/',\n",
       " 'https://www.starz.com/ar/es/',\n",
       " 'https://www.starz.com/ar/es/login',\n",
       " 'https://www.starz.com/ar/es/search',\n",
       " 'https://www.starz.com/ar/es/series/express/63120',\n",
       " 'https://www.starz.com/ar/es/series/power-book-iv-force/62261',\n",
       " 'https://www.starz.com/ar/es/series/baptiste/45713',\n",
       " 'https://www.starz.com/ar/es/series/the-great/57979',\n",
       " 'https://www.starz.com/ar/es/series/power-book-ii-ghost/58002',\n",
       " 'https://www.starz.com/ar/es/series/malayerba/64882',\n",
       " 'https://www.starz.com/ar/es/series/dr-death-the-undoctored-story/65195',\n",
       " 'https://www.starz.com/ar/es/series/hightown/57463',\n",
       " 'https://www.starz.com/ar/es/series/bmf/62264',\n",
       " 'https://www.starz.com/ar/es/series/dr-death/61268',\n",
       " 'https://www.starz.com/ar/es/series/heels/60760',\n",
       " 'https://www.starz.com/ar/es/series/the-girlfriend-experience/25586',\n",
       " 'https://www.starz.com/ar/es/series/power-book-iii-raising-kanan/58458',\n",
       " 'https://www.starz.com/ar/es/series/blindspotting/62263',\n",
       " 'https://www.starz.com/ar/es/series/run-the-world/58457',\n",
       " 'https://www.starz.com/ar/es/series/confronting-a-serial-killer/59920',\n",
       " 'https://www.starz.com/ar/es/series/pennyworth/57149',\n",
       " 'https://www.starz.com/ar/es/series/the-act/46154',\n",
       " 'https://www.starz.com/ar/es/series/the-attach%C3%A9/62262',\n",
       " 'https://www.starz.com/ar/es/series/the-stand/61994',\n",
       " 'https://www.starz.com/ar/es/series/little-birds/62168',\n",
       " 'https://www.starz.com/ar/es/series/normal-people/60083',\n",
       " 'https://www.starz.com/ar/es/series/p-valley/46156',\n",
       " 'https://www.starz.com/ar/es/series/seduced-inside-the-nxivm-cult/59967',\n",
       " 'https://www.starz.com/ar/es/series/the-night-manager/61267',\n",
       " 'https://www.starz.com/ar/es/series/gangs-of-london/60530',\n",
       " 'https://www.starz.com/ar/es/series/no-mans-land/61940',\n",
       " 'https://www.starz.com/ar/es/series/castle-rock/45522',\n",
       " 'https://www.starz.com/ar/es/series/flesh-and-bone/24528',\n",
       " 'https://www.starz.com/ar/es/series/the-spanish-princess/42457',\n",
       " 'https://www.starz.com/ar/es/browse/genre/acci%C3%B3n',\n",
       " 'https://www.starz.com/ar/es/browse/genre/comedias',\n",
       " 'https://www.starz.com/ar/es/browse/genre/cr%C3%ADmenes-reales',\n",
       " 'https://www.starz.com/ar/es/browse/genre/de-terror',\n",
       " 'https://www.starz.com/ar/es/browse/genre/dramas',\n",
       " 'https://www.starz.com/ar/es/browse/genre/dramas-de-%C3%A9poca',\n",
       " 'https://www.starz.com/ar/es/browse/genre/nuevos-lanzamientos',\n",
       " 'https://www.starz.com/ar/es/browse/genre/rom%C3%A1nticas',\n",
       " 'https://www.starz.com/ar/es/browse/genre/series-dram%C3%A1ticas-de-relaciones',\n",
       " 'https://www.starz.com/ar/es/browse/genre/series-policiales',\n",
       " 'https://www.starz.com/ar/es/browse/genre/si-te-gusta-the-great',\n",
       " 'https://www.starz.com/ar/es/browse/genre/thriller',\n",
       " 'https://www.starz.com/ar/es/browse/genre/%C3%BAltima-oportunidad']"
      ]
     },
     "execution_count": 113,
     "metadata": {},
     "output_type": "execute_result"
    }
   ],
   "source": [
    "lista_links"
   ]
  },
  {
   "cell_type": "code",
   "execution_count": 114,
   "metadata": {},
   "outputs": [],
   "source": [
    "# Creating match patron\n",
    "titulo_match = \"/\"+titulo.lower().replace(\" \",\"-\")+\"/\" "
   ]
  },
  {
   "cell_type": "code",
   "execution_count": 115,
   "metadata": {},
   "outputs": [
    {
     "data": {
      "text/plain": [
       "'/the-white-queen/'"
      ]
     },
     "execution_count": 115,
     "metadata": {},
     "output_type": "execute_result"
    }
   ],
   "source": [
    "titulo_match"
   ]
  },
  {
   "cell_type": "code",
   "execution_count": 116,
   "metadata": {},
   "outputs": [],
   "source": [
    "lista_episodios = [link for link in lista_links[1:] if titulo_match in link]"
   ]
  },
  {
   "cell_type": "code",
   "execution_count": 117,
   "metadata": {},
   "outputs": [
    {
     "data": {
      "text/plain": [
       "10"
      ]
     },
     "execution_count": 117,
     "metadata": {},
     "output_type": "execute_result"
    }
   ],
   "source": [
    "len(lista_episodios[1:-1])"
   ]
  },
  {
   "cell_type": "code",
   "execution_count": 118,
   "metadata": {},
   "outputs": [],
   "source": [
    "lista_serie = []"
   ]
  },
  {
   "cell_type": "code",
   "execution_count": 119,
   "metadata": {},
   "outputs": [],
   "source": [
    "diccionario_serie = {\n",
    "    'titulo':titulo,\n",
    "    'clasificacion':clasificacion,\n",
    "    'episodios':episodios,\n",
    "    'genero':genero,\n",
    "    'año':anio,\n",
    "    'sinopsis':sinopsis,\n",
    "    'lista_episodios': lista_episodios[1:-1]\n",
    "}"
   ]
  },
  {
   "cell_type": "code",
   "execution_count": 120,
   "metadata": {},
   "outputs": [],
   "source": [
    "lista_serie.append(diccionario_serie)"
   ]
  },
  {
   "cell_type": "code",
   "execution_count": 121,
   "metadata": {},
   "outputs": [
    {
     "data": {
      "text/plain": [
       "[{'titulo': 'The White Queen',\n",
       "  'clasificacion': 'SAM16',\n",
       "  'episodios': '10 EPISODIOS',\n",
       "  'genero': 'DRAMA, LITERARIA',\n",
       "  'año': '2013',\n",
       "  'sinopsis': '\"The White Queen\" es una fascinante historia de amor y deseo, traición y asesinatos, en donde se tejen vibrantemente las historias de tres mujeres diferentes pero igualmen',\n",
       "  'lista_episodios': ['https://www.starz.com/series/the-white-queen/season-1/episode-1/18334',\n",
       "   'https://www.starz.com/series/the-white-queen/season-1/episode-2/18375',\n",
       "   'https://www.starz.com/series/the-white-queen/season-1/episode-3/18416',\n",
       "   'https://www.starz.com/series/the-white-queen/season-1/episode-4/18563',\n",
       "   'https://www.starz.com/series/the-white-queen/season-1/episode-5/18639',\n",
       "   'https://www.starz.com/series/the-white-queen/season-1/episode-6/18707',\n",
       "   'https://www.starz.com/series/the-white-queen/season-1/episode-7/18769',\n",
       "   'https://www.starz.com/series/the-white-queen/season-1/episode-8/18834',\n",
       "   'https://www.starz.com/series/the-white-queen/season-1/episode-9/18890',\n",
       "   'https://www.starz.com/series/the-white-queen/season-1/episode-10/18925']}]"
      ]
     },
     "execution_count": 121,
     "metadata": {},
     "output_type": "execute_result"
    }
   ],
   "source": [
    "lista_serie"
   ]
  },
  {
   "cell_type": "code",
   "execution_count": 122,
   "metadata": {},
   "outputs": [],
   "source": [
    "df = pd.DataFrame(lista_serie)"
   ]
  },
  {
   "cell_type": "code",
   "execution_count": 123,
   "metadata": {},
   "outputs": [
    {
     "data": {
      "text/html": [
       "<div>\n",
       "<style scoped>\n",
       "    .dataframe tbody tr th:only-of-type {\n",
       "        vertical-align: middle;\n",
       "    }\n",
       "\n",
       "    .dataframe tbody tr th {\n",
       "        vertical-align: top;\n",
       "    }\n",
       "\n",
       "    .dataframe thead th {\n",
       "        text-align: right;\n",
       "    }\n",
       "</style>\n",
       "<table border=\"1\" class=\"dataframe\">\n",
       "  <thead>\n",
       "    <tr style=\"text-align: right;\">\n",
       "      <th></th>\n",
       "      <th>titulo</th>\n",
       "      <th>clasificacion</th>\n",
       "      <th>episodios</th>\n",
       "      <th>genero</th>\n",
       "      <th>año</th>\n",
       "      <th>sinopsis</th>\n",
       "      <th>lista_episodios</th>\n",
       "    </tr>\n",
       "  </thead>\n",
       "  <tbody>\n",
       "    <tr>\n",
       "      <th>0</th>\n",
       "      <td>The White Queen</td>\n",
       "      <td>SAM16</td>\n",
       "      <td>10 EPISODIOS</td>\n",
       "      <td>DRAMA, LITERARIA</td>\n",
       "      <td>2013</td>\n",
       "      <td>\"The White Queen\" es una fascinante historia d...</td>\n",
       "      <td>[https://www.starz.com/series/the-white-queen/...</td>\n",
       "    </tr>\n",
       "  </tbody>\n",
       "</table>\n",
       "</div>"
      ],
      "text/plain": [
       "            titulo clasificacion     episodios            genero   año  \\\n",
       "0  The White Queen         SAM16  10 EPISODIOS  DRAMA, LITERARIA  2013   \n",
       "\n",
       "                                            sinopsis  \\\n",
       "0  \"The White Queen\" es una fascinante historia d...   \n",
       "\n",
       "                                     lista_episodios  \n",
       "0  [https://www.starz.com/series/the-white-queen/...  "
      ]
     },
     "execution_count": 123,
     "metadata": {},
     "output_type": "execute_result"
    }
   ],
   "source": [
    "df"
   ]
  },
  {
   "cell_type": "code",
   "execution_count": 124,
   "metadata": {},
   "outputs": [],
   "source": [
    "df.to_csv('datasets/una_serie.csv')"
   ]
  },
  {
   "cell_type": "code",
   "execution_count": 125,
   "metadata": {},
   "outputs": [],
   "source": [
    "df.to_json('datasets/una_serie.json')"
   ]
  },
  {
   "cell_type": "code",
   "execution_count": null,
   "metadata": {},
   "outputs": [],
   "source": []
  }
 ],
 "metadata": {
  "kernelspec": {
   "display_name": "Python 3",
   "language": "python",
   "name": "python3"
  },
  "language_info": {
   "codemirror_mode": {
    "name": "ipython",
    "version": 3
   },
   "file_extension": ".py",
   "mimetype": "text/x-python",
   "name": "python",
   "nbconvert_exporter": "python",
   "pygments_lexer": "ipython3",
   "version": "3.8.1"
  }
 },
 "nbformat": 4,
 "nbformat_minor": 4
}
