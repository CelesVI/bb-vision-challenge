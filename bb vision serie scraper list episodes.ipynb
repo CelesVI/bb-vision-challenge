{
 "cells": [
  {
   "cell_type": "code",
   "execution_count": 1,
   "metadata": {},
   "outputs": [],
   "source": [
    "#Import necesary libraries.\n",
    "from selenium import webdriver\n",
    "import pandas as pd\n",
    "import time"
   ]
  },
  {
   "cell_type": "code",
   "execution_count": 5,
   "metadata": {},
   "outputs": [],
   "source": [
    "#Series url to get episodies.\n",
    "url = \"https://www.starz.com/ar/es/series/reign/63571\""
   ]
  },
  {
   "cell_type": "code",
   "execution_count": 6,
   "metadata": {},
   "outputs": [],
   "source": [
    "#Create instance of driver.\n",
    "driver = webdriver.Chrome(executable_path = r'chromedriver.exe')"
   ]
  },
  {
   "cell_type": "code",
   "execution_count": 8,
   "metadata": {},
   "outputs": [],
   "source": [
    "#Load url on driver. Wait 8 seconds to load all metadata.\n",
    "driver.get(url)\n",
    "time.sleep(8)"
   ]
  },
  {
   "cell_type": "code",
   "execution_count": 9,
   "metadata": {},
   "outputs": [],
   "source": [
    "#Get serie title.\n",
    "titulo_serie= driver.find_element_by_xpath('.//*[@id=\"seriesDetailsH1\"]').text"
   ]
  },
  {
   "cell_type": "code",
   "execution_count": 10,
   "metadata": {},
   "outputs": [
    {
     "data": {
      "text/plain": [
       "'Reign'"
      ]
     },
     "execution_count": 10,
     "metadata": {},
     "output_type": "execute_result"
    }
   ],
   "source": [
    "titulo_serie"
   ]
  },
  {
   "cell_type": "code",
   "execution_count": 11,
   "metadata": {},
   "outputs": [],
   "source": [
    "#Get all links in url.\n",
    "lista_links = []"
   ]
  },
  {
   "cell_type": "code",
   "execution_count": 12,
   "metadata": {},
   "outputs": [],
   "source": [
    "for link in driver.find_elements_by_xpath('.//a'):\n",
    "    lista_links.append(link.get_attribute('href'))"
   ]
  },
  {
   "cell_type": "code",
   "execution_count": 13,
   "metadata": {},
   "outputs": [],
   "source": [
    "#Filter None.\n",
    "lista_links = list(filter(None, lista_links))"
   ]
  },
  {
   "cell_type": "code",
   "execution_count": 14,
   "metadata": {},
   "outputs": [
    {
     "data": {
      "text/plain": [
       "['https://www.starz.com/ar/es/',\n",
       " 'https://www.starz.com/ar/es/',\n",
       " 'https://www.starz.com/ar/es/series',\n",
       " 'https://www.starz.com/ar/es/movies',\n",
       " 'https://www.starz.com/ar/es/search',\n",
       " 'https://www.starz.com/ar/es/login',\n",
       " 'https://www.starz.com/ar/es/signup',\n",
       " 'https://www.facebook.com/STARZPLAYLATAM/',\n",
       " 'https://twitter.com/starzplaylatam',\n",
       " 'https://www.instagram.com/starzplaylatam/',\n",
       " 'https://www.starz.com/ar/es/#',\n",
       " 'https://www.starz.com/ar/es/signup',\n",
       " 'https://www.facebook.com/STARZPLAYLATAM/',\n",
       " 'https://twitter.com/starzplaylatam',\n",
       " 'https://www.instagram.com/starzplaylatam/',\n",
       " 'https://www.starz.com/ar/es/#',\n",
       " 'https://www.starz.com/ar/es/series/reign/season-1/63662',\n",
       " 'https://www.starz.com/ar/es/series/reign/season-2/63664',\n",
       " 'https://www.starz.com/ar/es/series/reign/season-3/63665',\n",
       " 'https://www.starz.com/ar/es/series/reign/season-4/63667',\n",
       " 'https://www.starz.com/ar/es/play/63650',\n",
       " 'https://www.starz.com/ar/es/play/63650',\n",
       " 'https://www.starz.com/series/reign/season-1/episode-1/63650',\n",
       " 'https://www.starz.com/ar/es/play/63651',\n",
       " 'https://www.starz.com/ar/es/play/63651',\n",
       " 'https://www.starz.com/series/reign/season-1/episode-2/63651',\n",
       " 'https://www.starz.com/ar/es/play/63652',\n",
       " 'https://www.starz.com/ar/es/play/63652',\n",
       " 'https://www.starz.com/series/reign/season-1/episode-3/63652',\n",
       " 'https://www.starz.com/ar/es/play/63653',\n",
       " 'https://www.starz.com/ar/es/play/63653',\n",
       " 'https://www.starz.com/series/reign/season-1/episode-4/63653',\n",
       " 'https://www.starz.com/ar/es/play/63654',\n",
       " 'https://www.starz.com/ar/es/play/63654',\n",
       " 'https://www.starz.com/series/reign/season-1/episode-5/63654',\n",
       " 'https://www.starz.com/ar/es/play/63655',\n",
       " 'https://www.starz.com/ar/es/play/63655',\n",
       " 'https://www.starz.com/series/reign/season-1/episode-6/63655',\n",
       " 'https://www.starz.com/ar/es/play/63656',\n",
       " 'https://www.starz.com/ar/es/play/63656',\n",
       " 'https://www.starz.com/series/reign/season-1/episode-7/63656',\n",
       " 'https://www.starz.com/ar/es/play/63657',\n",
       " 'https://www.starz.com/ar/es/play/63657',\n",
       " 'https://www.starz.com/series/reign/season-1/episode-8/63657',\n",
       " 'https://www.starz.com/ar/es/play/63658',\n",
       " 'https://www.starz.com/ar/es/play/63658',\n",
       " 'https://www.starz.com/series/reign/season-1/episode-9/63658',\n",
       " 'https://www.starz.com/ar/es/play/63659',\n",
       " 'https://www.starz.com/ar/es/play/63659',\n",
       " 'https://www.starz.com/series/reign/season-1/episode-10/63659',\n",
       " 'https://www.starz.com/ar/es/play/63660',\n",
       " 'https://www.starz.com/ar/es/play/63660',\n",
       " 'https://www.starz.com/series/reign/season-1/episode-11/63660',\n",
       " 'https://www.starz.com/ar/es/play/63661',\n",
       " 'https://www.starz.com/ar/es/play/63661',\n",
       " 'https://www.starz.com/series/reign/season-1/episode-12/63661',\n",
       " 'https://www.starz.com/ar/es/play/63574',\n",
       " 'https://www.starz.com/ar/es/play/63574',\n",
       " 'https://www.starz.com/series/reign/season-1/episode-13/63574',\n",
       " 'https://www.starz.com/ar/es/play/63575',\n",
       " 'https://www.starz.com/ar/es/play/63575',\n",
       " 'https://www.starz.com/series/reign/season-1/episode-14/63575',\n",
       " 'https://www.starz.com/ar/es/play/63576',\n",
       " 'https://www.starz.com/ar/es/play/63576',\n",
       " 'https://www.starz.com/series/reign/season-1/episode-15/63576',\n",
       " 'https://www.starz.com/ar/es/play/63577',\n",
       " 'https://www.starz.com/ar/es/play/63577',\n",
       " 'https://www.starz.com/series/reign/season-1/episode-16/63577',\n",
       " 'https://www.starz.com/ar/es/play/63578',\n",
       " 'https://www.starz.com/ar/es/play/63578',\n",
       " 'https://www.starz.com/series/reign/season-1/episode-17/63578',\n",
       " 'https://www.starz.com/ar/es/play/63579',\n",
       " 'https://www.starz.com/ar/es/play/63579',\n",
       " 'https://www.starz.com/series/reign/season-1/episode-18/63579',\n",
       " 'https://www.starz.com/ar/es/play/63580',\n",
       " 'https://www.starz.com/ar/es/play/63580',\n",
       " 'https://www.starz.com/series/reign/season-1/episode-19/63580',\n",
       " 'https://www.starz.com/ar/es/play/63593',\n",
       " 'https://www.starz.com/ar/es/play/63593',\n",
       " 'https://www.starz.com/series/reign/season-1/episode-20/63593',\n",
       " 'https://www.starz.com/ar/es/play/63594',\n",
       " 'https://www.starz.com/ar/es/play/63594',\n",
       " 'https://www.starz.com/series/reign/season-1/episode-21/63594',\n",
       " 'https://www.starz.com/ar/es/play/63595',\n",
       " 'https://www.starz.com/ar/es/play/63595',\n",
       " 'https://www.starz.com/series/reign/season-1/episode-22/63595',\n",
       " 'https://www.starz.com/ar/es/browse/if-you-like/reign/63571',\n",
       " 'https://www.starz.com/ar/es/series/the-capture/57770',\n",
       " 'https://www.starz.com/ar/es/movies/crep%C3%BAsculo-la-saga-luna-nueva-50238',\n",
       " 'https://www.starz.com/ar/es/movies/los-juegos-del-hambre-sinsajo-parte-1-50738',\n",
       " 'https://www.starz.com/ar/es/movies/la-caba%C3%B1a-57174',\n",
       " 'https://www.starz.com/ar/es/movies/de-tyler-perry-por-qu%C3%A9-me-cas%C3%A9-tambi%C3%A9n-50512',\n",
       " 'https://www.starz.com/ar/es/series/express/63120',\n",
       " 'https://www.starz.com/ar/es/series/power-book-iv-force/62261',\n",
       " 'https://www.starz.com/ar/es/series/baptiste/45713',\n",
       " 'https://www.starz.com/ar/es/series/the-great/57979',\n",
       " 'https://www.starz.com/ar/es/browse/originals',\n",
       " 'https://www.starz.com/ar/es/movies/el-sorprendente-hombre-ara%C3%B1a-2-la-amenaza-de-electro-50064',\n",
       " 'https://www.starz.com/ar/es/movies/oscura-seducci%C3%B3n-60743',\n",
       " 'https://www.starz.com/ar/es/movies/crep%C3%BAsculo-49947',\n",
       " 'https://www.starz.com/ar/es/movies/la-enfermera-28990',\n",
       " 'https://www.starz.com/ar/es/movies',\n",
       " 'https://www.starz.com/ar/es/series/the-great/57979',\n",
       " 'https://www.starz.com/ar/es/series/express/63120',\n",
       " 'https://www.starz.com/ar/es/series/the-act/46154',\n",
       " 'https://www.starz.com/ar/es/series/the-spanish-princess/42457',\n",
       " 'https://www.starz.com/ar/es/series',\n",
       " 'https://www.starz.com/ar/es/signup',\n",
       " 'https://www.starz.com/ar/es/login',\n",
       " 'https://www.starz.com/ar/es/faq',\n",
       " 'https://www.starz.com/ar/es/login/activate',\n",
       " 'https://www.starz.com/ar/es/supporteddevices',\n",
       " 'https://www.facebook.com/STARZPLAYLATAM/',\n",
       " 'https://twitter.com/starzplaylatam',\n",
       " 'https://www.instagram.com/starzplaylatam/',\n",
       " 'https://www.facebook.com/STARZPLAYLATAM/',\n",
       " 'https://twitter.com/starzplaylatam',\n",
       " 'https://www.instagram.com/starzplaylatam/',\n",
       " 'https://www.starz.com/ar/es/',\n",
       " 'https://www.starz.com/ar/es/login',\n",
       " 'https://www.starz.com/ar/es/search',\n",
       " 'https://www.starz.com/ar/es/series/express/63120',\n",
       " 'https://www.starz.com/ar/es/series/power-book-iv-force/62261',\n",
       " 'https://www.starz.com/ar/es/series/baptiste/45713',\n",
       " 'https://www.starz.com/ar/es/series/the-great/57979',\n",
       " 'https://www.starz.com/ar/es/series/power-book-ii-ghost/58002',\n",
       " 'https://www.starz.com/ar/es/series/malayerba/64882',\n",
       " 'https://www.starz.com/ar/es/series/dr-death-the-undoctored-story/65195',\n",
       " 'https://www.starz.com/ar/es/series/hightown/57463',\n",
       " 'https://www.starz.com/ar/es/series/bmf/62264',\n",
       " 'https://www.starz.com/ar/es/series/dr-death/61268',\n",
       " 'https://www.starz.com/ar/es/series/heels/60760',\n",
       " 'https://www.starz.com/ar/es/series/the-girlfriend-experience/25586',\n",
       " 'https://www.starz.com/ar/es/series/power-book-iii-raising-kanan/58458',\n",
       " 'https://www.starz.com/ar/es/series/blindspotting/62263',\n",
       " 'https://www.starz.com/ar/es/series/run-the-world/58457',\n",
       " 'https://www.starz.com/ar/es/series/confronting-a-serial-killer/59920',\n",
       " 'https://www.starz.com/ar/es/series/pennyworth/57149',\n",
       " 'https://www.starz.com/ar/es/series/the-act/46154',\n",
       " 'https://www.starz.com/ar/es/series/the-attach%C3%A9/62262',\n",
       " 'https://www.starz.com/ar/es/series/the-stand/61994',\n",
       " 'https://www.starz.com/ar/es/series/little-birds/62168',\n",
       " 'https://www.starz.com/ar/es/series/normal-people/60083',\n",
       " 'https://www.starz.com/ar/es/series/p-valley/46156',\n",
       " 'https://www.starz.com/ar/es/series/seduced-inside-the-nxivm-cult/59967',\n",
       " 'https://www.starz.com/ar/es/series/the-night-manager/61267',\n",
       " 'https://www.starz.com/ar/es/series/gangs-of-london/60530',\n",
       " 'https://www.starz.com/ar/es/series/no-mans-land/61940',\n",
       " 'https://www.starz.com/ar/es/series/castle-rock/45522',\n",
       " 'https://www.starz.com/ar/es/series/flesh-and-bone/24528',\n",
       " 'https://www.starz.com/ar/es/series/the-spanish-princess/42457',\n",
       " 'https://www.starz.com/ar/es/browse/genre/acci%C3%B3n',\n",
       " 'https://www.starz.com/ar/es/browse/genre/comedias',\n",
       " 'https://www.starz.com/ar/es/browse/genre/cr%C3%ADmenes-reales',\n",
       " 'https://www.starz.com/ar/es/browse/genre/de-terror',\n",
       " 'https://www.starz.com/ar/es/browse/genre/dramas',\n",
       " 'https://www.starz.com/ar/es/browse/genre/dramas-de-%C3%A9poca',\n",
       " 'https://www.starz.com/ar/es/browse/genre/nuevos-lanzamientos',\n",
       " 'https://www.starz.com/ar/es/browse/genre/rom%C3%A1nticas',\n",
       " 'https://www.starz.com/ar/es/browse/genre/series-dram%C3%A1ticas-de-relaciones',\n",
       " 'https://www.starz.com/ar/es/browse/genre/series-policiales',\n",
       " 'https://www.starz.com/ar/es/browse/genre/si-te-gusta-the-great',\n",
       " 'https://www.starz.com/ar/es/browse/genre/thriller',\n",
       " 'https://www.starz.com/ar/es/browse/genre/%C3%BAltima-oportunidad']"
      ]
     },
     "execution_count": 14,
     "metadata": {},
     "output_type": "execute_result"
    }
   ],
   "source": [
    "lista_links"
   ]
  },
  {
   "cell_type": "code",
   "execution_count": 15,
   "metadata": {},
   "outputs": [],
   "source": [
    "# Creating match patron to get seasons and episode.\n",
    "# Insert to redo episodes links.\n",
    "season_match = \"/season-\"\n",
    "episode_match = \"/episode-\"\n",
    "languaje_insert = \"/ar/es\""
   ]
  },
  {
   "cell_type": "code",
   "execution_count": 16,
   "metadata": {},
   "outputs": [],
   "source": [
    "# Get season links.\n",
    "lista_temporadas = [link for link in lista_links if season_match in link]"
   ]
  },
  {
   "cell_type": "code",
   "execution_count": 17,
   "metadata": {},
   "outputs": [
    {
     "data": {
      "text/plain": [
       "['https://www.starz.com/ar/es/series/reign/season-1/63662',\n",
       " 'https://www.starz.com/ar/es/series/reign/season-2/63664',\n",
       " 'https://www.starz.com/ar/es/series/reign/season-3/63665',\n",
       " 'https://www.starz.com/ar/es/series/reign/season-4/63667',\n",
       " 'https://www.starz.com/series/reign/season-1/episode-1/63650',\n",
       " 'https://www.starz.com/series/reign/season-1/episode-2/63651',\n",
       " 'https://www.starz.com/series/reign/season-1/episode-3/63652',\n",
       " 'https://www.starz.com/series/reign/season-1/episode-4/63653',\n",
       " 'https://www.starz.com/series/reign/season-1/episode-5/63654',\n",
       " 'https://www.starz.com/series/reign/season-1/episode-6/63655',\n",
       " 'https://www.starz.com/series/reign/season-1/episode-7/63656',\n",
       " 'https://www.starz.com/series/reign/season-1/episode-8/63657',\n",
       " 'https://www.starz.com/series/reign/season-1/episode-9/63658',\n",
       " 'https://www.starz.com/series/reign/season-1/episode-10/63659',\n",
       " 'https://www.starz.com/series/reign/season-1/episode-11/63660',\n",
       " 'https://www.starz.com/series/reign/season-1/episode-12/63661',\n",
       " 'https://www.starz.com/series/reign/season-1/episode-13/63574',\n",
       " 'https://www.starz.com/series/reign/season-1/episode-14/63575',\n",
       " 'https://www.starz.com/series/reign/season-1/episode-15/63576',\n",
       " 'https://www.starz.com/series/reign/season-1/episode-16/63577',\n",
       " 'https://www.starz.com/series/reign/season-1/episode-17/63578',\n",
       " 'https://www.starz.com/series/reign/season-1/episode-18/63579',\n",
       " 'https://www.starz.com/series/reign/season-1/episode-19/63580',\n",
       " 'https://www.starz.com/series/reign/season-1/episode-20/63593',\n",
       " 'https://www.starz.com/series/reign/season-1/episode-21/63594',\n",
       " 'https://www.starz.com/series/reign/season-1/episode-22/63595']"
      ]
     },
     "execution_count": 17,
     "metadata": {},
     "output_type": "execute_result"
    }
   ],
   "source": [
    "lista_temporadas"
   ]
  },
  {
   "cell_type": "code",
   "execution_count": 18,
   "metadata": {},
   "outputs": [],
   "source": [
    "# Get season links. Remove all links with \"episode\" on it.\n",
    "# At first time, get attribute href only get links for first season, ignoring any other.\n",
    "\n",
    "lista_temporadas = [link for link in lista_temporadas if episode_match not in link]\n"
   ]
  },
  {
   "cell_type": "code",
   "execution_count": 19,
   "metadata": {},
   "outputs": [
    {
     "data": {
      "text/plain": [
       "['https://www.starz.com/ar/es/series/reign/season-1/63662',\n",
       " 'https://www.starz.com/ar/es/series/reign/season-2/63664',\n",
       " 'https://www.starz.com/ar/es/series/reign/season-3/63665',\n",
       " 'https://www.starz.com/ar/es/series/reign/season-4/63667']"
      ]
     },
     "execution_count": 19,
     "metadata": {},
     "output_type": "execute_result"
    }
   ],
   "source": [
    "lista_temporadas"
   ]
  },
  {
   "cell_type": "code",
   "execution_count": 72,
   "metadata": {},
   "outputs": [],
   "source": [
    "# List to save episode links.\n",
    "lista_episodios = []"
   ]
  },
  {
   "cell_type": "code",
   "execution_count": 73,
   "metadata": {},
   "outputs": [],
   "source": [
    "# List to get all href from season.\n",
    "lista_links_episodios = []\n",
    "    "
   ]
  },
  {
   "cell_type": "code",
   "execution_count": 74,
   "metadata": {},
   "outputs": [],
   "source": [
    "# Save all links from all seasons.\n",
    "for link in lista_temporadas:\n",
    "    driver.get(link)\n",
    "    time.sleep(5)\n",
    "    for i in driver.find_elements_by_xpath('.//a'):\n",
    "        lista_links_episodios.append(i.get_attribute('href'))"
   ]
  },
  {
   "cell_type": "code",
   "execution_count": 75,
   "metadata": {},
   "outputs": [],
   "source": [
    "#Filter None.\n",
    "lista_links_episodios = list(filter(None, lista_links_episodios))"
   ]
  },
  {
   "cell_type": "code",
   "execution_count": 76,
   "metadata": {},
   "outputs": [],
   "source": [
    "# Filter by string \"/episode-\"\n",
    "lista_episodios = [link for link in lista_links_episodios if episode_match in link]"
   ]
  },
  {
   "cell_type": "code",
   "execution_count": 77,
   "metadata": {},
   "outputs": [
    {
     "data": {
      "text/plain": [
       "['https://www.starz.com/series/reign/season-1/episode-1/63650',\n",
       " 'https://www.starz.com/series/reign/season-1/episode-2/63651',\n",
       " 'https://www.starz.com/series/reign/season-1/episode-3/63652',\n",
       " 'https://www.starz.com/series/reign/season-1/episode-4/63653',\n",
       " 'https://www.starz.com/series/reign/season-1/episode-5/63654',\n",
       " 'https://www.starz.com/series/reign/season-1/episode-6/63655',\n",
       " 'https://www.starz.com/series/reign/season-1/episode-7/63656',\n",
       " 'https://www.starz.com/series/reign/season-1/episode-8/63657',\n",
       " 'https://www.starz.com/series/reign/season-1/episode-9/63658',\n",
       " 'https://www.starz.com/series/reign/season-1/episode-10/63659',\n",
       " 'https://www.starz.com/series/reign/season-1/episode-11/63660',\n",
       " 'https://www.starz.com/series/reign/season-1/episode-12/63661',\n",
       " 'https://www.starz.com/series/reign/season-1/episode-13/63574',\n",
       " 'https://www.starz.com/series/reign/season-1/episode-14/63575',\n",
       " 'https://www.starz.com/series/reign/season-1/episode-15/63576',\n",
       " 'https://www.starz.com/series/reign/season-1/episode-16/63577',\n",
       " 'https://www.starz.com/series/reign/season-1/episode-17/63578',\n",
       " 'https://www.starz.com/series/reign/season-1/episode-18/63579',\n",
       " 'https://www.starz.com/series/reign/season-1/episode-19/63580',\n",
       " 'https://www.starz.com/series/reign/season-1/episode-20/63593',\n",
       " 'https://www.starz.com/series/reign/season-1/episode-21/63594',\n",
       " 'https://www.starz.com/series/reign/season-1/episode-22/63595',\n",
       " 'https://www.starz.com/series/reign/season-2/episode-1/63596',\n",
       " 'https://www.starz.com/series/reign/season-2/episode-2/63597',\n",
       " 'https://www.starz.com/series/reign/season-2/episode-3/63598',\n",
       " 'https://www.starz.com/series/reign/season-2/episode-4/63599',\n",
       " 'https://www.starz.com/series/reign/season-2/episode-5/63600',\n",
       " 'https://www.starz.com/series/reign/season-2/episode-6/63601',\n",
       " 'https://www.starz.com/series/reign/season-2/episode-7/63602',\n",
       " 'https://www.starz.com/series/reign/season-2/episode-8/63603',\n",
       " 'https://www.starz.com/series/reign/season-2/episode-9/63604',\n",
       " 'https://www.starz.com/series/reign/season-2/episode-10/63605',\n",
       " 'https://www.starz.com/series/reign/season-2/episode-11/63606',\n",
       " 'https://www.starz.com/series/reign/season-2/episode-12/63607',\n",
       " 'https://www.starz.com/series/reign/season-2/episode-13/63608',\n",
       " 'https://www.starz.com/series/reign/season-2/episode-14/63609',\n",
       " 'https://www.starz.com/series/reign/season-2/episode-15/63610',\n",
       " 'https://www.starz.com/series/reign/season-2/episode-16/63611',\n",
       " 'https://www.starz.com/series/reign/season-2/episode-17/63612',\n",
       " 'https://www.starz.com/series/reign/season-2/episode-18/63613',\n",
       " 'https://www.starz.com/series/reign/season-2/episode-19/63614',\n",
       " 'https://www.starz.com/series/reign/season-2/episode-20/63615',\n",
       " 'https://www.starz.com/series/reign/season-2/episode-21/63616',\n",
       " 'https://www.starz.com/series/reign/season-2/episode-22/63617',\n",
       " 'https://www.starz.com/series/reign/season-3/episode-1/63618',\n",
       " 'https://www.starz.com/series/reign/season-3/episode-2/63619',\n",
       " 'https://www.starz.com/series/reign/season-3/episode-3/63620',\n",
       " 'https://www.starz.com/series/reign/season-3/episode-4/63621',\n",
       " 'https://www.starz.com/series/reign/season-3/episode-5/63622',\n",
       " 'https://www.starz.com/series/reign/season-3/episode-6/63623',\n",
       " 'https://www.starz.com/series/reign/season-3/episode-7/63624',\n",
       " 'https://www.starz.com/series/reign/season-3/episode-8/63625',\n",
       " 'https://www.starz.com/series/reign/season-3/episode-9/63626',\n",
       " 'https://www.starz.com/series/reign/season-3/episode-10/63627',\n",
       " 'https://www.starz.com/series/reign/season-3/episode-11/63628',\n",
       " 'https://www.starz.com/series/reign/season-3/episode-12/63629',\n",
       " 'https://www.starz.com/series/reign/season-3/episode-13/63630',\n",
       " 'https://www.starz.com/series/reign/season-3/episode-14/63631',\n",
       " 'https://www.starz.com/series/reign/season-3/episode-15/63632',\n",
       " 'https://www.starz.com/series/reign/season-3/episode-16/63633',\n",
       " 'https://www.starz.com/series/reign/season-3/episode-17/63634',\n",
       " 'https://www.starz.com/series/reign/season-3/episode-18/63635',\n",
       " 'https://www.starz.com/series/reign/season-4/episode-1/63636',\n",
       " 'https://www.starz.com/series/reign/season-4/episode-2/63637',\n",
       " 'https://www.starz.com/series/reign/season-4/episode-3/63638',\n",
       " 'https://www.starz.com/series/reign/season-4/episode-4/63639',\n",
       " 'https://www.starz.com/series/reign/season-4/episode-5/63640',\n",
       " 'https://www.starz.com/series/reign/season-4/episode-6/63641',\n",
       " 'https://www.starz.com/series/reign/season-4/episode-7/63642',\n",
       " 'https://www.starz.com/series/reign/season-4/episode-8/63643',\n",
       " 'https://www.starz.com/series/reign/season-4/episode-9/63644',\n",
       " 'https://www.starz.com/series/reign/season-4/episode-10/63645',\n",
       " 'https://www.starz.com/series/reign/season-4/episode-11/63646',\n",
       " 'https://www.starz.com/series/reign/season-4/episode-12/63647',\n",
       " 'https://www.starz.com/series/reign/season-4/episode-13/63648',\n",
       " 'https://www.starz.com/series/reign/season-4/episode-14/63649',\n",
       " 'https://www.starz.com/series/reign/season-4/episode-15/63581',\n",
       " 'https://www.starz.com/series/reign/season-4/episode-16/63582']"
      ]
     },
     "execution_count": 77,
     "metadata": {},
     "output_type": "execute_result"
    }
   ],
   "source": [
    "lista_episodios"
   ]
  },
  {
   "cell_type": "code",
   "execution_count": 78,
   "metadata": {},
   "outputs": [],
   "source": [
    "# By default, episode links are in English.\n",
    "# If continue like that, all metadata retrieved are in English.\n",
    "# Add \"/ar/es\" to get metadata in Spanish.\n",
    "# \"/ar/es\" string is in languaje_insert variable.\n",
    "# Insert after 'm/'\n",
    "index = link.find('m/')\n",
    "lista_episodios = [link[:index+1]+languaje_insert+link[index+1:] for link in lista_episodios]\n",
    "    \n",
    "    "
   ]
  },
  {
   "cell_type": "code",
   "execution_count": 79,
   "metadata": {},
   "outputs": [
    {
     "data": {
      "text/plain": [
       "['https://www.starz.com/ar/es/series/reign/season-1/episode-1/63650',\n",
       " 'https://www.starz.com/ar/es/series/reign/season-1/episode-2/63651',\n",
       " 'https://www.starz.com/ar/es/series/reign/season-1/episode-3/63652',\n",
       " 'https://www.starz.com/ar/es/series/reign/season-1/episode-4/63653',\n",
       " 'https://www.starz.com/ar/es/series/reign/season-1/episode-5/63654',\n",
       " 'https://www.starz.com/ar/es/series/reign/season-1/episode-6/63655',\n",
       " 'https://www.starz.com/ar/es/series/reign/season-1/episode-7/63656',\n",
       " 'https://www.starz.com/ar/es/series/reign/season-1/episode-8/63657',\n",
       " 'https://www.starz.com/ar/es/series/reign/season-1/episode-9/63658',\n",
       " 'https://www.starz.com/ar/es/series/reign/season-1/episode-10/63659',\n",
       " 'https://www.starz.com/ar/es/series/reign/season-1/episode-11/63660',\n",
       " 'https://www.starz.com/ar/es/series/reign/season-1/episode-12/63661',\n",
       " 'https://www.starz.com/ar/es/series/reign/season-1/episode-13/63574',\n",
       " 'https://www.starz.com/ar/es/series/reign/season-1/episode-14/63575',\n",
       " 'https://www.starz.com/ar/es/series/reign/season-1/episode-15/63576',\n",
       " 'https://www.starz.com/ar/es/series/reign/season-1/episode-16/63577',\n",
       " 'https://www.starz.com/ar/es/series/reign/season-1/episode-17/63578',\n",
       " 'https://www.starz.com/ar/es/series/reign/season-1/episode-18/63579',\n",
       " 'https://www.starz.com/ar/es/series/reign/season-1/episode-19/63580',\n",
       " 'https://www.starz.com/ar/es/series/reign/season-1/episode-20/63593',\n",
       " 'https://www.starz.com/ar/es/series/reign/season-1/episode-21/63594',\n",
       " 'https://www.starz.com/ar/es/series/reign/season-1/episode-22/63595',\n",
       " 'https://www.starz.com/ar/es/series/reign/season-2/episode-1/63596',\n",
       " 'https://www.starz.com/ar/es/series/reign/season-2/episode-2/63597',\n",
       " 'https://www.starz.com/ar/es/series/reign/season-2/episode-3/63598',\n",
       " 'https://www.starz.com/ar/es/series/reign/season-2/episode-4/63599',\n",
       " 'https://www.starz.com/ar/es/series/reign/season-2/episode-5/63600',\n",
       " 'https://www.starz.com/ar/es/series/reign/season-2/episode-6/63601',\n",
       " 'https://www.starz.com/ar/es/series/reign/season-2/episode-7/63602',\n",
       " 'https://www.starz.com/ar/es/series/reign/season-2/episode-8/63603',\n",
       " 'https://www.starz.com/ar/es/series/reign/season-2/episode-9/63604',\n",
       " 'https://www.starz.com/ar/es/series/reign/season-2/episode-10/63605',\n",
       " 'https://www.starz.com/ar/es/series/reign/season-2/episode-11/63606',\n",
       " 'https://www.starz.com/ar/es/series/reign/season-2/episode-12/63607',\n",
       " 'https://www.starz.com/ar/es/series/reign/season-2/episode-13/63608',\n",
       " 'https://www.starz.com/ar/es/series/reign/season-2/episode-14/63609',\n",
       " 'https://www.starz.com/ar/es/series/reign/season-2/episode-15/63610',\n",
       " 'https://www.starz.com/ar/es/series/reign/season-2/episode-16/63611',\n",
       " 'https://www.starz.com/ar/es/series/reign/season-2/episode-17/63612',\n",
       " 'https://www.starz.com/ar/es/series/reign/season-2/episode-18/63613',\n",
       " 'https://www.starz.com/ar/es/series/reign/season-2/episode-19/63614',\n",
       " 'https://www.starz.com/ar/es/series/reign/season-2/episode-20/63615',\n",
       " 'https://www.starz.com/ar/es/series/reign/season-2/episode-21/63616',\n",
       " 'https://www.starz.com/ar/es/series/reign/season-2/episode-22/63617',\n",
       " 'https://www.starz.com/ar/es/series/reign/season-3/episode-1/63618',\n",
       " 'https://www.starz.com/ar/es/series/reign/season-3/episode-2/63619',\n",
       " 'https://www.starz.com/ar/es/series/reign/season-3/episode-3/63620',\n",
       " 'https://www.starz.com/ar/es/series/reign/season-3/episode-4/63621',\n",
       " 'https://www.starz.com/ar/es/series/reign/season-3/episode-5/63622',\n",
       " 'https://www.starz.com/ar/es/series/reign/season-3/episode-6/63623',\n",
       " 'https://www.starz.com/ar/es/series/reign/season-3/episode-7/63624',\n",
       " 'https://www.starz.com/ar/es/series/reign/season-3/episode-8/63625',\n",
       " 'https://www.starz.com/ar/es/series/reign/season-3/episode-9/63626',\n",
       " 'https://www.starz.com/ar/es/series/reign/season-3/episode-10/63627',\n",
       " 'https://www.starz.com/ar/es/series/reign/season-3/episode-11/63628',\n",
       " 'https://www.starz.com/ar/es/series/reign/season-3/episode-12/63629',\n",
       " 'https://www.starz.com/ar/es/series/reign/season-3/episode-13/63630',\n",
       " 'https://www.starz.com/ar/es/series/reign/season-3/episode-14/63631',\n",
       " 'https://www.starz.com/ar/es/series/reign/season-3/episode-15/63632',\n",
       " 'https://www.starz.com/ar/es/series/reign/season-3/episode-16/63633',\n",
       " 'https://www.starz.com/ar/es/series/reign/season-3/episode-17/63634',\n",
       " 'https://www.starz.com/ar/es/series/reign/season-3/episode-18/63635',\n",
       " 'https://www.starz.com/ar/es/series/reign/season-4/episode-1/63636',\n",
       " 'https://www.starz.com/ar/es/series/reign/season-4/episode-2/63637',\n",
       " 'https://www.starz.com/ar/es/series/reign/season-4/episode-3/63638',\n",
       " 'https://www.starz.com/ar/es/series/reign/season-4/episode-4/63639',\n",
       " 'https://www.starz.com/ar/es/series/reign/season-4/episode-5/63640',\n",
       " 'https://www.starz.com/ar/es/series/reign/season-4/episode-6/63641',\n",
       " 'https://www.starz.com/ar/es/series/reign/season-4/episode-7/63642',\n",
       " 'https://www.starz.com/ar/es/series/reign/season-4/episode-8/63643',\n",
       " 'https://www.starz.com/ar/es/series/reign/season-4/episode-9/63644',\n",
       " 'https://www.starz.com/ar/es/series/reign/season-4/episode-10/63645',\n",
       " 'https://www.starz.com/ar/es/series/reign/season-4/episode-11/63646',\n",
       " 'https://www.starz.com/ar/es/series/reign/season-4/episode-12/63647',\n",
       " 'https://www.starz.com/ar/es/series/reign/season-4/episode-13/63648',\n",
       " 'https://www.starz.com/ar/es/series/reign/season-4/episode-14/63649',\n",
       " 'https://www.starz.com/ar/es/series/reign/season-4/episode-15/63581',\n",
       " 'https://www.starz.com/ar/es/series/reign/season-4/episode-16/63582']"
      ]
     },
     "execution_count": 79,
     "metadata": {},
     "output_type": "execute_result"
    }
   ],
   "source": [
    "lista_episodios"
   ]
  },
  {
   "cell_type": "code",
   "execution_count": 87,
   "metadata": {},
   "outputs": [],
   "source": [
    "# List to save episodes metadata.\n",
    "# Then, use it to store data in .csv and .json.\n",
    "lista_episodios_final = []"
   ]
  },
  {
   "cell_type": "code",
   "execution_count": 88,
   "metadata": {},
   "outputs": [
    {
     "name": "stdout",
     "output_type": "stream",
     "text": [
      "https://www.starz.com/ar/es/series/reign/season-1/episode-1/63650\n",
      "https://www.starz.com/ar/es/series/reign/season-1/episode-2/63651\n",
      "https://www.starz.com/ar/es/series/reign/season-1/episode-3/63652\n",
      "https://www.starz.com/ar/es/series/reign/season-1/episode-4/63653\n",
      "https://www.starz.com/ar/es/series/reign/season-1/episode-5/63654\n"
     ]
    },
    {
     "ename": "NoSuchElementException",
     "evalue": "Message: no such element: Unable to locate element: {\"method\":\"xpath\",\"selector\":\".//html/body/starz-root/starz-base-modal/div/div/div/div[2]/starz-episode-details-modal/div/section/div/div[1]/div[2]/h5\"}\n  (Session info: chrome=97.0.4692.99)\n",
     "output_type": "error",
     "traceback": [
      "\u001b[1;31m---------------------------------------------------------------------------\u001b[0m",
      "\u001b[1;31mNoSuchElementException\u001b[0m                    Traceback (most recent call last)",
      "\u001b[1;32m<ipython-input-88-74b0513359d4>\u001b[0m in \u001b[0;36m<module>\u001b[1;34m\u001b[0m\n\u001b[0;32m      7\u001b[0m     \u001b[0mdriver\u001b[0m\u001b[1;33m.\u001b[0m\u001b[0mget\u001b[0m\u001b[1;33m(\u001b[0m\u001b[0mlink\u001b[0m\u001b[1;33m)\u001b[0m\u001b[1;33m\u001b[0m\u001b[1;33m\u001b[0m\u001b[0m\n\u001b[0;32m      8\u001b[0m     \u001b[0mtime\u001b[0m\u001b[1;33m.\u001b[0m\u001b[0msleep\u001b[0m\u001b[1;33m(\u001b[0m\u001b[1;36m5\u001b[0m\u001b[1;33m)\u001b[0m\u001b[1;33m\u001b[0m\u001b[1;33m\u001b[0m\u001b[0m\n\u001b[1;32m----> 9\u001b[1;33m     \u001b[0mtitulo\u001b[0m \u001b[1;33m=\u001b[0m \u001b[0mdriver\u001b[0m\u001b[1;33m.\u001b[0m\u001b[0mfind_element_by_xpath\u001b[0m\u001b[1;33m(\u001b[0m\u001b[1;34m'.//html/body/starz-root/starz-base-modal/div/div/div/div[2]/starz-episode-details-modal/div/section/div/div[1]/div[2]/h5'\u001b[0m\u001b[1;33m)\u001b[0m\u001b[1;33m.\u001b[0m\u001b[0mtext\u001b[0m\u001b[1;33m\u001b[0m\u001b[1;33m\u001b[0m\u001b[0m\n\u001b[0m\u001b[0;32m     10\u001b[0m     \u001b[0mclasificacion\u001b[0m \u001b[1;33m=\u001b[0m \u001b[0mdriver\u001b[0m\u001b[1;33m.\u001b[0m\u001b[0mfind_element_by_xpath\u001b[0m\u001b[1;33m(\u001b[0m\u001b[1;34m'.//html/body/starz-root/starz-base-modal/div/div/div/div[2]/starz-episode-details-modal/div/section/div/div[1]/div[2]/ul/li[1]'\u001b[0m\u001b[1;33m)\u001b[0m\u001b[1;33m.\u001b[0m\u001b[0mtext\u001b[0m\u001b[1;33m\u001b[0m\u001b[1;33m\u001b[0m\u001b[0m\n\u001b[0;32m     11\u001b[0m     \u001b[0mduracion\u001b[0m \u001b[1;33m=\u001b[0m \u001b[0mdriver\u001b[0m\u001b[1;33m.\u001b[0m\u001b[0mfind_element_by_xpath\u001b[0m\u001b[1;33m(\u001b[0m\u001b[1;34m'.//html/body/starz-root/starz-base-modal/div/div/div/div[2]/starz-episode-details-modal/div/section/div/div[1]/div[2]/ul/li[2]'\u001b[0m\u001b[1;33m)\u001b[0m\u001b[1;33m.\u001b[0m\u001b[0mtext\u001b[0m\u001b[1;33m\u001b[0m\u001b[1;33m\u001b[0m\u001b[0m\n",
      "\u001b[1;32mc:\\users\\bravin\\appdata\\local\\programs\\python\\python38\\lib\\site-packages\\selenium\\webdriver\\remote\\webdriver.py\u001b[0m in \u001b[0;36mfind_element_by_xpath\u001b[1;34m(self, xpath)\u001b[0m\n\u001b[0;32m    392\u001b[0m             \u001b[0melement\u001b[0m \u001b[1;33m=\u001b[0m \u001b[0mdriver\u001b[0m\u001b[1;33m.\u001b[0m\u001b[0mfind_element_by_xpath\u001b[0m\u001b[1;33m(\u001b[0m\u001b[1;34m'//div/td[1]'\u001b[0m\u001b[1;33m)\u001b[0m\u001b[1;33m\u001b[0m\u001b[1;33m\u001b[0m\u001b[0m\n\u001b[0;32m    393\u001b[0m         \"\"\"\n\u001b[1;32m--> 394\u001b[1;33m         \u001b[1;32mreturn\u001b[0m \u001b[0mself\u001b[0m\u001b[1;33m.\u001b[0m\u001b[0mfind_element\u001b[0m\u001b[1;33m(\u001b[0m\u001b[0mby\u001b[0m\u001b[1;33m=\u001b[0m\u001b[0mBy\u001b[0m\u001b[1;33m.\u001b[0m\u001b[0mXPATH\u001b[0m\u001b[1;33m,\u001b[0m \u001b[0mvalue\u001b[0m\u001b[1;33m=\u001b[0m\u001b[0mxpath\u001b[0m\u001b[1;33m)\u001b[0m\u001b[1;33m\u001b[0m\u001b[1;33m\u001b[0m\u001b[0m\n\u001b[0m\u001b[0;32m    395\u001b[0m \u001b[1;33m\u001b[0m\u001b[0m\n\u001b[0;32m    396\u001b[0m     \u001b[1;32mdef\u001b[0m \u001b[0mfind_elements_by_xpath\u001b[0m\u001b[1;33m(\u001b[0m\u001b[0mself\u001b[0m\u001b[1;33m,\u001b[0m \u001b[0mxpath\u001b[0m\u001b[1;33m)\u001b[0m\u001b[1;33m:\u001b[0m\u001b[1;33m\u001b[0m\u001b[1;33m\u001b[0m\u001b[0m\n",
      "\u001b[1;32mc:\\users\\bravin\\appdata\\local\\programs\\python\\python38\\lib\\site-packages\\selenium\\webdriver\\remote\\webdriver.py\u001b[0m in \u001b[0;36mfind_element\u001b[1;34m(self, by, value)\u001b[0m\n\u001b[0;32m    974\u001b[0m                 \u001b[0mby\u001b[0m \u001b[1;33m=\u001b[0m \u001b[0mBy\u001b[0m\u001b[1;33m.\u001b[0m\u001b[0mCSS_SELECTOR\u001b[0m\u001b[1;33m\u001b[0m\u001b[1;33m\u001b[0m\u001b[0m\n\u001b[0;32m    975\u001b[0m                 \u001b[0mvalue\u001b[0m \u001b[1;33m=\u001b[0m \u001b[1;34m'[name=\"%s\"]'\u001b[0m \u001b[1;33m%\u001b[0m \u001b[0mvalue\u001b[0m\u001b[1;33m\u001b[0m\u001b[1;33m\u001b[0m\u001b[0m\n\u001b[1;32m--> 976\u001b[1;33m         return self.execute(Command.FIND_ELEMENT, {\n\u001b[0m\u001b[0;32m    977\u001b[0m             \u001b[1;34m'using'\u001b[0m\u001b[1;33m:\u001b[0m \u001b[0mby\u001b[0m\u001b[1;33m,\u001b[0m\u001b[1;33m\u001b[0m\u001b[1;33m\u001b[0m\u001b[0m\n\u001b[0;32m    978\u001b[0m             'value': value})['value']\n",
      "\u001b[1;32mc:\\users\\bravin\\appdata\\local\\programs\\python\\python38\\lib\\site-packages\\selenium\\webdriver\\remote\\webdriver.py\u001b[0m in \u001b[0;36mexecute\u001b[1;34m(self, driver_command, params)\u001b[0m\n\u001b[0;32m    319\u001b[0m         \u001b[0mresponse\u001b[0m \u001b[1;33m=\u001b[0m \u001b[0mself\u001b[0m\u001b[1;33m.\u001b[0m\u001b[0mcommand_executor\u001b[0m\u001b[1;33m.\u001b[0m\u001b[0mexecute\u001b[0m\u001b[1;33m(\u001b[0m\u001b[0mdriver_command\u001b[0m\u001b[1;33m,\u001b[0m \u001b[0mparams\u001b[0m\u001b[1;33m)\u001b[0m\u001b[1;33m\u001b[0m\u001b[1;33m\u001b[0m\u001b[0m\n\u001b[0;32m    320\u001b[0m         \u001b[1;32mif\u001b[0m \u001b[0mresponse\u001b[0m\u001b[1;33m:\u001b[0m\u001b[1;33m\u001b[0m\u001b[1;33m\u001b[0m\u001b[0m\n\u001b[1;32m--> 321\u001b[1;33m             \u001b[0mself\u001b[0m\u001b[1;33m.\u001b[0m\u001b[0merror_handler\u001b[0m\u001b[1;33m.\u001b[0m\u001b[0mcheck_response\u001b[0m\u001b[1;33m(\u001b[0m\u001b[0mresponse\u001b[0m\u001b[1;33m)\u001b[0m\u001b[1;33m\u001b[0m\u001b[1;33m\u001b[0m\u001b[0m\n\u001b[0m\u001b[0;32m    322\u001b[0m             response['value'] = self._unwrap_value(\n\u001b[0;32m    323\u001b[0m                 response.get('value', None))\n",
      "\u001b[1;32mc:\\users\\bravin\\appdata\\local\\programs\\python\\python38\\lib\\site-packages\\selenium\\webdriver\\remote\\errorhandler.py\u001b[0m in \u001b[0;36mcheck_response\u001b[1;34m(self, response)\u001b[0m\n\u001b[0;32m    240\u001b[0m                 \u001b[0malert_text\u001b[0m \u001b[1;33m=\u001b[0m \u001b[0mvalue\u001b[0m\u001b[1;33m[\u001b[0m\u001b[1;34m'alert'\u001b[0m\u001b[1;33m]\u001b[0m\u001b[1;33m.\u001b[0m\u001b[0mget\u001b[0m\u001b[1;33m(\u001b[0m\u001b[1;34m'text'\u001b[0m\u001b[1;33m)\u001b[0m\u001b[1;33m\u001b[0m\u001b[1;33m\u001b[0m\u001b[0m\n\u001b[0;32m    241\u001b[0m             \u001b[1;32mraise\u001b[0m \u001b[0mexception_class\u001b[0m\u001b[1;33m(\u001b[0m\u001b[0mmessage\u001b[0m\u001b[1;33m,\u001b[0m \u001b[0mscreen\u001b[0m\u001b[1;33m,\u001b[0m \u001b[0mstacktrace\u001b[0m\u001b[1;33m,\u001b[0m \u001b[0malert_text\u001b[0m\u001b[1;33m)\u001b[0m\u001b[1;33m\u001b[0m\u001b[1;33m\u001b[0m\u001b[0m\n\u001b[1;32m--> 242\u001b[1;33m         \u001b[1;32mraise\u001b[0m \u001b[0mexception_class\u001b[0m\u001b[1;33m(\u001b[0m\u001b[0mmessage\u001b[0m\u001b[1;33m,\u001b[0m \u001b[0mscreen\u001b[0m\u001b[1;33m,\u001b[0m \u001b[0mstacktrace\u001b[0m\u001b[1;33m)\u001b[0m\u001b[1;33m\u001b[0m\u001b[1;33m\u001b[0m\u001b[0m\n\u001b[0m\u001b[0;32m    243\u001b[0m \u001b[1;33m\u001b[0m\u001b[0m\n\u001b[0;32m    244\u001b[0m     \u001b[1;32mdef\u001b[0m \u001b[0m_value_or_default\u001b[0m\u001b[1;33m(\u001b[0m\u001b[0mself\u001b[0m\u001b[1;33m,\u001b[0m \u001b[0mobj\u001b[0m\u001b[1;33m,\u001b[0m \u001b[0mkey\u001b[0m\u001b[1;33m,\u001b[0m \u001b[0mdefault\u001b[0m\u001b[1;33m)\u001b[0m\u001b[1;33m:\u001b[0m\u001b[1;33m\u001b[0m\u001b[1;33m\u001b[0m\u001b[0m\n",
      "\u001b[1;31mNoSuchElementException\u001b[0m: Message: no such element: Unable to locate element: {\"method\":\"xpath\",\"selector\":\".//html/body/starz-root/starz-base-modal/div/div/div/div[2]/starz-episode-details-modal/div/section/div/div[1]/div[2]/h5\"}\n  (Session info: chrome=97.0.4692.99)\n"
     ]
    }
   ],
   "source": [
    "# Get metadata from xpath.\n",
    "# Wait 5 seconds for each episode to load all data.\n",
    "# Then, save it into dictionary to append it to lista_episodios_final.\n",
    "# It might crash if the driver doesn't have enought time to retrive the metadata.\n",
    "for link in lista_episodios:\n",
    "    print(link)\n",
    "    driver.get(link)\n",
    "    time.sleep(5)\n",
    "    titulo = driver.find_element_by_xpath('.//html/body/starz-root/starz-base-modal/div/div/div/div[2]/starz-episode-details-modal/div/section/div/div[1]/div[2]/h5').text\n",
    "    clasificacion = driver.find_element_by_xpath('.//html/body/starz-root/starz-base-modal/div/div/div/div[2]/starz-episode-details-modal/div/section/div/div[1]/div[2]/ul/li[1]').text\n",
    "    duracion = driver.find_element_by_xpath('.//html/body/starz-root/starz-base-modal/div/div/div/div[2]/starz-episode-details-modal/div/section/div/div[1]/div[2]/ul/li[2]').text\n",
    "    anio = driver.find_element_by_xpath('.//html/body/starz-root/starz-base-modal/div/div/div/div[2]/starz-episode-details-modal/div/section/div/div[1]/div[2]/ul/li[3]').text\n",
    "    tipo_de_sonido = driver.find_element_by_xpath('.//html/body/starz-root/starz-base-modal/div/div/div/div[2]/starz-episode-details-modal/div/section/div/div[1]/div[2]/ul/li[4]').text\n",
    "    sinopsis = driver.find_element_by_xpath('/html/body/starz-root/starz-base-modal/div/div/div/div[2]/starz-episode-details-modal/div/section/div/div[1]/div[2]/div[1]/p[1]').text\n",
    "    diccionario_episodio = {\n",
    "        'titulo':titulo,\n",
    "        'clasificacion':clasificacion,\n",
    "        'duracion':duracion,\n",
    "        'año':anio,\n",
    "        'sinopsis':sinopsis\n",
    "    }\n",
    "    lista_episodios_final.append(diccionario_episodio)\n",
    "print('******FIN******')"
   ]
  },
  {
   "cell_type": "code",
   "execution_count": 89,
   "metadata": {},
   "outputs": [
    {
     "data": {
      "text/plain": [
       "[{'titulo': 'Piloto',\n",
       "  'clasificacion': 'SAM13',\n",
       "  'duracion': '42 MIN',\n",
       "  'año': '2013',\n",
       "  'sinopsis': 'La joven Mary Stuart viaja a Francia para conocer a su prometido el príncipe Francis. Aunque su madre, la reina Catherine, intente impedirlo.'},\n",
       " {'titulo': 'Serpientes en el jardín',\n",
       "  'clasificacion': 'SAM13',\n",
       "  'duracion': '42 MIN',\n",
       "  'año': '2013',\n",
       "  'sinopsis': 'Mary y Francis quieren convencer a los ingleses de que su compromiso es fuerte, mientras tanto, Catherine busca a alguien que puede arruinar su plan en contra de Mary.'},\n",
       " {'titulo': 'Beso',\n",
       "  'clasificacion': 'SAM13',\n",
       "  'duracion': '42 MIN',\n",
       "  'año': '2013',\n",
       "  'sinopsis': 'El rey Henry de Francia rechaza ayudar a Mary contra los ingleses invasores en Escocia, ella sopesa la posibilidad de aliarse con Portugal con una boda.'},\n",
       " {'titulo': 'Corazones y mentes',\n",
       "  'clasificacion': 'SAM13',\n",
       "  'duracion': '41 MIN',\n",
       "  'año': '2013',\n",
       "  'sinopsis': 'Mary debe mentir para ayudar a su país, Francis y Bash descubren cosas desconcertantes sobre Tomas, que hacen que Mary piense dos veces su propuesta de matrimonio.'}]"
      ]
     },
     "execution_count": 89,
     "metadata": {},
     "output_type": "execute_result"
    }
   ],
   "source": [
    "lista_episodios_final"
   ]
  },
  {
   "cell_type": "code",
   "execution_count": 90,
   "metadata": {},
   "outputs": [],
   "source": [
    "# Transform list into DataFrame.\n",
    "df = pd.DataFrame(lista_episodios_final)"
   ]
  },
  {
   "cell_type": "code",
   "execution_count": 91,
   "metadata": {},
   "outputs": [
    {
     "data": {
      "text/html": [
       "<div>\n",
       "<style scoped>\n",
       "    .dataframe tbody tr th:only-of-type {\n",
       "        vertical-align: middle;\n",
       "    }\n",
       "\n",
       "    .dataframe tbody tr th {\n",
       "        vertical-align: top;\n",
       "    }\n",
       "\n",
       "    .dataframe thead th {\n",
       "        text-align: right;\n",
       "    }\n",
       "</style>\n",
       "<table border=\"1\" class=\"dataframe\">\n",
       "  <thead>\n",
       "    <tr style=\"text-align: right;\">\n",
       "      <th></th>\n",
       "      <th>titulo</th>\n",
       "      <th>clasificacion</th>\n",
       "      <th>duracion</th>\n",
       "      <th>año</th>\n",
       "      <th>sinopsis</th>\n",
       "    </tr>\n",
       "  </thead>\n",
       "  <tbody>\n",
       "    <tr>\n",
       "      <th>0</th>\n",
       "      <td>Piloto</td>\n",
       "      <td>SAM13</td>\n",
       "      <td>42 MIN</td>\n",
       "      <td>2013</td>\n",
       "      <td>La joven Mary Stuart viaja a Francia para cono...</td>\n",
       "    </tr>\n",
       "    <tr>\n",
       "      <th>1</th>\n",
       "      <td>Serpientes en el jardín</td>\n",
       "      <td>SAM13</td>\n",
       "      <td>42 MIN</td>\n",
       "      <td>2013</td>\n",
       "      <td>Mary y Francis quieren convencer a los inglese...</td>\n",
       "    </tr>\n",
       "    <tr>\n",
       "      <th>2</th>\n",
       "      <td>Beso</td>\n",
       "      <td>SAM13</td>\n",
       "      <td>42 MIN</td>\n",
       "      <td>2013</td>\n",
       "      <td>El rey Henry de Francia rechaza ayudar a Mary ...</td>\n",
       "    </tr>\n",
       "    <tr>\n",
       "      <th>3</th>\n",
       "      <td>Corazones y mentes</td>\n",
       "      <td>SAM13</td>\n",
       "      <td>41 MIN</td>\n",
       "      <td>2013</td>\n",
       "      <td>Mary debe mentir para ayudar a su país, Franci...</td>\n",
       "    </tr>\n",
       "  </tbody>\n",
       "</table>\n",
       "</div>"
      ],
      "text/plain": [
       "                    titulo clasificacion duracion   año  \\\n",
       "0                   Piloto         SAM13   42 MIN  2013   \n",
       "1  Serpientes en el jardín         SAM13   42 MIN  2013   \n",
       "2                     Beso         SAM13   42 MIN  2013   \n",
       "3       Corazones y mentes         SAM13   41 MIN  2013   \n",
       "\n",
       "                                            sinopsis  \n",
       "0  La joven Mary Stuart viaja a Francia para cono...  \n",
       "1  Mary y Francis quieren convencer a los inglese...  \n",
       "2  El rey Henry de Francia rechaza ayudar a Mary ...  \n",
       "3  Mary debe mentir para ayudar a su país, Franci...  "
      ]
     },
     "execution_count": 91,
     "metadata": {},
     "output_type": "execute_result"
    }
   ],
   "source": [
    "df"
   ]
  },
  {
   "cell_type": "code",
   "execution_count": 92,
   "metadata": {},
   "outputs": [],
   "source": [
    "df.to_csv('datasets/'+titulo_serie+' lista de episodios.csv')"
   ]
  },
  {
   "cell_type": "code",
   "execution_count": 93,
   "metadata": {},
   "outputs": [],
   "source": [
    "df.to_json('datasets/'+titulo_serie+' lista de episodios.json')"
   ]
  },
  {
   "cell_type": "code",
   "execution_count": 94,
   "metadata": {},
   "outputs": [],
   "source": [
    "driver.quit()"
   ]
  },
  {
   "cell_type": "code",
   "execution_count": null,
   "metadata": {},
   "outputs": [],
   "source": []
  }
 ],
 "metadata": {
  "kernelspec": {
   "display_name": "Python 3",
   "language": "python",
   "name": "python3"
  },
  "language_info": {
   "codemirror_mode": {
    "name": "ipython",
    "version": 3
   },
   "file_extension": ".py",
   "mimetype": "text/x-python",
   "name": "python",
   "nbconvert_exporter": "python",
   "pygments_lexer": "ipython3",
   "version": "3.8.1"
  }
 },
 "nbformat": 4,
 "nbformat_minor": 4
}
