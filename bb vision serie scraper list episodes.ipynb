{
 "cells": [
  {
   "cell_type": "code",
   "execution_count": 35,
   "metadata": {},
   "outputs": [],
   "source": [
    "from selenium import webdriver\n",
    "import pandas as pd\n",
    "import time"
   ]
  },
  {
   "cell_type": "code",
   "execution_count": 81,
   "metadata": {},
   "outputs": [],
   "source": [
    "url = \"https://www.starz.com/ar/es/series/the-spanish-princess/42457\""
   ]
  },
  {
   "cell_type": "code",
   "execution_count": 82,
   "metadata": {},
   "outputs": [],
   "source": [
    "driver = webdriver.Chrome(executable_path = r'chromedriver.exe')"
   ]
  },
  {
   "cell_type": "code",
   "execution_count": 86,
   "metadata": {},
   "outputs": [],
   "source": [
    "driver.get(url)"
   ]
  },
  {
   "cell_type": "code",
   "execution_count": 87,
   "metadata": {},
   "outputs": [],
   "source": [
    "titulo = driver.find_element_by_xpath('.//*[@id=\"seriesDetailsH1\"]').text"
   ]
  },
  {
   "cell_type": "code",
   "execution_count": 88,
   "metadata": {},
   "outputs": [
    {
     "data": {
      "text/plain": [
       "'The Spanish Princess'"
      ]
     },
     "execution_count": 88,
     "metadata": {},
     "output_type": "execute_result"
    }
   ],
   "source": [
    "titulo"
   ]
  },
  {
   "cell_type": "code",
   "execution_count": 89,
   "metadata": {},
   "outputs": [],
   "source": [
    "lista_links = []"
   ]
  },
  {
   "cell_type": "code",
   "execution_count": 90,
   "metadata": {},
   "outputs": [],
   "source": [
    "for link in driver.find_elements_by_xpath('.//a'):\n",
    "    lista_links.append(link.get_attribute('href'))"
   ]
  },
  {
   "cell_type": "code",
   "execution_count": 91,
   "metadata": {},
   "outputs": [],
   "source": [
    "lista_links = list(filter(None, lista_links))"
   ]
  },
  {
   "cell_type": "code",
   "execution_count": 92,
   "metadata": {},
   "outputs": [
    {
     "data": {
      "text/plain": [
       "['https://www.starz.com/ar/es/',\n",
       " 'https://www.starz.com/ar/es/',\n",
       " 'https://www.starz.com/ar/es/series',\n",
       " 'https://www.starz.com/ar/es/movies',\n",
       " 'https://www.starz.com/ar/es/search',\n",
       " 'https://www.starz.com/ar/es/login',\n",
       " 'https://www.starz.com/ar/es/signup',\n",
       " 'https://www.facebook.com/STARZPLAYLATAM/',\n",
       " 'https://twitter.com/starzplaylatam',\n",
       " 'https://www.instagram.com/starzplaylatam/',\n",
       " 'https://www.starz.com/ar/es/#',\n",
       " 'https://www.starz.com/ar/es/signup',\n",
       " 'https://www.facebook.com/STARZPLAYLATAM/',\n",
       " 'https://twitter.com/starzplaylatam',\n",
       " 'https://www.instagram.com/starzplaylatam/',\n",
       " 'https://www.starz.com/ar/es/#',\n",
       " 'https://www.starz.com/ar/es/series/the-spanish-princess/season-1/42458',\n",
       " 'https://www.starz.com/ar/es/series/the-spanish-princess/season-2/52490',\n",
       " 'https://www.starz.com/ar/es/play/44185',\n",
       " 'https://www.starz.com/ar/es/play/44185',\n",
       " 'https://www.starz.com/series/the-spanish-princess/season-1/episode-1/44185',\n",
       " 'https://www.starz.com/ar/es/play/44219',\n",
       " 'https://www.starz.com/ar/es/play/44219',\n",
       " 'https://www.starz.com/series/the-spanish-princess/season-1/episode-2/44219',\n",
       " 'https://www.starz.com/ar/es/play/44390',\n",
       " 'https://www.starz.com/ar/es/play/44390',\n",
       " 'https://www.starz.com/series/the-spanish-princess/season-1/episode-3/44390',\n",
       " 'https://www.starz.com/ar/es/play/44543',\n",
       " 'https://www.starz.com/ar/es/play/44543',\n",
       " 'https://www.starz.com/series/the-spanish-princess/season-1/episode-4/44543',\n",
       " 'https://www.starz.com/ar/es/play/44622',\n",
       " 'https://www.starz.com/ar/es/play/44622',\n",
       " 'https://www.starz.com/series/the-spanish-princess/season-1/episode-5/44622',\n",
       " 'https://www.starz.com/ar/es/play/44694',\n",
       " 'https://www.starz.com/ar/es/play/44694',\n",
       " 'https://www.starz.com/series/the-spanish-princess/season-1/episode-6/44694',\n",
       " 'https://www.starz.com/ar/es/play/44718',\n",
       " 'https://www.starz.com/ar/es/play/44718',\n",
       " 'https://www.starz.com/series/the-spanish-princess/season-1/episode-7/44718',\n",
       " 'https://www.starz.com/ar/es/play/44730',\n",
       " 'https://www.starz.com/ar/es/play/44730',\n",
       " 'https://www.starz.com/series/the-spanish-princess/season-1/episode-8/44730',\n",
       " 'https://www.starz.com/ar/es/browse/if-you-like/the-spanish-princess/42457',\n",
       " 'https://www.starz.com/ar/es/series/power-book-ii-ghost/58002',\n",
       " 'https://www.starz.com/ar/es/series/seduced-inside-the-nxivm-cult/59967',\n",
       " 'https://www.starz.com/ar/es/series/p-valley/46156',\n",
       " 'https://www.starz.com/ar/es/series/blindspotting/62263',\n",
       " 'https://www.starz.com/ar/es/series/power-book-iii-raising-kanan/58458',\n",
       " 'https://www.starz.com/ar/es/series/express/63120',\n",
       " 'https://www.starz.com/ar/es/series/power-book-iv-force/62261',\n",
       " 'https://www.starz.com/ar/es/series/baptiste/45713',\n",
       " 'https://www.starz.com/ar/es/series/the-great/57979',\n",
       " 'https://www.starz.com/ar/es/browse/originals',\n",
       " 'https://www.starz.com/ar/es/movies/el-sorprendente-hombre-ara%C3%B1a-2-la-amenaza-de-electro-50064',\n",
       " 'https://www.starz.com/ar/es/movies/oscura-seducci%C3%B3n-60743',\n",
       " 'https://www.starz.com/ar/es/movies/el-justiciero-22163',\n",
       " 'https://www.starz.com/ar/es/movies/los-juegos-del-hambre-sinsajo-el-final-50756',\n",
       " 'https://www.starz.com/ar/es/movies',\n",
       " 'https://www.starz.com/ar/es/series/the-great/57979',\n",
       " 'https://www.starz.com/ar/es/series/express/63120',\n",
       " 'https://www.starz.com/ar/es/series/the-act/46154',\n",
       " 'https://www.starz.com/ar/es/series/the-spanish-princess/42457',\n",
       " 'https://www.starz.com/ar/es/series',\n",
       " 'https://www.starz.com/ar/es/signup',\n",
       " 'https://www.starz.com/ar/es/login',\n",
       " 'https://www.starz.com/ar/es/faq',\n",
       " 'https://www.starz.com/ar/es/login/activate',\n",
       " 'https://www.starz.com/ar/es/supporteddevices',\n",
       " 'https://www.facebook.com/STARZPLAYLATAM/',\n",
       " 'https://twitter.com/starzplaylatam',\n",
       " 'https://www.instagram.com/starzplaylatam/',\n",
       " 'https://www.facebook.com/STARZPLAYLATAM/',\n",
       " 'https://twitter.com/starzplaylatam',\n",
       " 'https://www.instagram.com/starzplaylatam/',\n",
       " 'https://www.starz.com/ar/es/',\n",
       " 'https://www.starz.com/ar/es/login',\n",
       " 'https://www.starz.com/ar/es/search',\n",
       " 'https://www.starz.com/ar/es/series/express/63120',\n",
       " 'https://www.starz.com/ar/es/series/power-book-iv-force/62261',\n",
       " 'https://www.starz.com/ar/es/series/baptiste/45713',\n",
       " 'https://www.starz.com/ar/es/series/the-great/57979',\n",
       " 'https://www.starz.com/ar/es/series/power-book-ii-ghost/58002',\n",
       " 'https://www.starz.com/ar/es/series/malayerba/64882',\n",
       " 'https://www.starz.com/ar/es/series/dr-death-the-undoctored-story/65195',\n",
       " 'https://www.starz.com/ar/es/series/hightown/57463',\n",
       " 'https://www.starz.com/ar/es/series/bmf/62264',\n",
       " 'https://www.starz.com/ar/es/series/dr-death/61268',\n",
       " 'https://www.starz.com/ar/es/series/heels/60760',\n",
       " 'https://www.starz.com/ar/es/series/the-girlfriend-experience/25586',\n",
       " 'https://www.starz.com/ar/es/series/power-book-iii-raising-kanan/58458',\n",
       " 'https://www.starz.com/ar/es/series/blindspotting/62263',\n",
       " 'https://www.starz.com/ar/es/series/run-the-world/58457',\n",
       " 'https://www.starz.com/ar/es/series/confronting-a-serial-killer/59920',\n",
       " 'https://www.starz.com/ar/es/series/pennyworth/57149',\n",
       " 'https://www.starz.com/ar/es/series/the-act/46154',\n",
       " 'https://www.starz.com/ar/es/series/the-attach%C3%A9/62262',\n",
       " 'https://www.starz.com/ar/es/series/the-stand/61994',\n",
       " 'https://www.starz.com/ar/es/series/little-birds/62168',\n",
       " 'https://www.starz.com/ar/es/series/normal-people/60083',\n",
       " 'https://www.starz.com/ar/es/series/p-valley/46156',\n",
       " 'https://www.starz.com/ar/es/series/seduced-inside-the-nxivm-cult/59967',\n",
       " 'https://www.starz.com/ar/es/series/the-night-manager/61267',\n",
       " 'https://www.starz.com/ar/es/series/gangs-of-london/60530',\n",
       " 'https://www.starz.com/ar/es/series/no-mans-land/61940',\n",
       " 'https://www.starz.com/ar/es/series/castle-rock/45522',\n",
       " 'https://www.starz.com/ar/es/series/flesh-and-bone/24528',\n",
       " 'https://www.starz.com/ar/es/series/the-spanish-princess/42457',\n",
       " 'https://www.starz.com/ar/es/browse/genre/acci%C3%B3n',\n",
       " 'https://www.starz.com/ar/es/browse/genre/comedias',\n",
       " 'https://www.starz.com/ar/es/browse/genre/cr%C3%ADmenes-reales',\n",
       " 'https://www.starz.com/ar/es/browse/genre/de-terror',\n",
       " 'https://www.starz.com/ar/es/browse/genre/dramas',\n",
       " 'https://www.starz.com/ar/es/browse/genre/dramas-de-%C3%A9poca',\n",
       " 'https://www.starz.com/ar/es/browse/genre/nuevos-lanzamientos',\n",
       " 'https://www.starz.com/ar/es/browse/genre/rom%C3%A1nticas',\n",
       " 'https://www.starz.com/ar/es/browse/genre/series-dram%C3%A1ticas-de-relaciones',\n",
       " 'https://www.starz.com/ar/es/browse/genre/series-policiales',\n",
       " 'https://www.starz.com/ar/es/browse/genre/si-te-gusta-the-great',\n",
       " 'https://www.starz.com/ar/es/browse/genre/thriller',\n",
       " 'https://www.starz.com/ar/es/browse/genre/%C3%BAltima-oportunidad']"
      ]
     },
     "execution_count": 92,
     "metadata": {},
     "output_type": "execute_result"
    }
   ],
   "source": [
    "lista_links"
   ]
  },
  {
   "cell_type": "code",
   "execution_count": 93,
   "metadata": {},
   "outputs": [],
   "source": [
    "# Creating match patron\n",
    "season_match = \"/season-\"\n",
    "episode_match = \"/episode-\""
   ]
  },
  {
   "cell_type": "code",
   "execution_count": 94,
   "metadata": {},
   "outputs": [],
   "source": [
    "lista_temporadas = [link for link in lista_links if season_match in link]"
   ]
  },
  {
   "cell_type": "code",
   "execution_count": 95,
   "metadata": {},
   "outputs": [
    {
     "data": {
      "text/plain": [
       "['https://www.starz.com/ar/es/series/the-spanish-princess/season-1/42458',\n",
       " 'https://www.starz.com/ar/es/series/the-spanish-princess/season-2/52490',\n",
       " 'https://www.starz.com/series/the-spanish-princess/season-1/episode-1/44185',\n",
       " 'https://www.starz.com/series/the-spanish-princess/season-1/episode-2/44219',\n",
       " 'https://www.starz.com/series/the-spanish-princess/season-1/episode-3/44390',\n",
       " 'https://www.starz.com/series/the-spanish-princess/season-1/episode-4/44543',\n",
       " 'https://www.starz.com/series/the-spanish-princess/season-1/episode-5/44622',\n",
       " 'https://www.starz.com/series/the-spanish-princess/season-1/episode-6/44694',\n",
       " 'https://www.starz.com/series/the-spanish-princess/season-1/episode-7/44718',\n",
       " 'https://www.starz.com/series/the-spanish-princess/season-1/episode-8/44730']"
      ]
     },
     "execution_count": 95,
     "metadata": {},
     "output_type": "execute_result"
    }
   ],
   "source": [
    "lista_temporadas"
   ]
  },
  {
   "cell_type": "code",
   "execution_count": 96,
   "metadata": {},
   "outputs": [],
   "source": [
    "lista_temporadas = [link for link in lista_temporadas if episode_match not in link]\n"
   ]
  },
  {
   "cell_type": "code",
   "execution_count": 97,
   "metadata": {},
   "outputs": [
    {
     "data": {
      "text/plain": [
       "['https://www.starz.com/ar/es/series/the-spanish-princess/season-1/42458',\n",
       " 'https://www.starz.com/ar/es/series/the-spanish-princess/season-2/52490']"
      ]
     },
     "execution_count": 97,
     "metadata": {},
     "output_type": "execute_result"
    }
   ],
   "source": [
    "lista_temporadas"
   ]
  },
  {
   "cell_type": "code",
   "execution_count": 98,
   "metadata": {},
   "outputs": [],
   "source": [
    "lista_episodios = []"
   ]
  },
  {
   "cell_type": "code",
   "execution_count": 99,
   "metadata": {},
   "outputs": [],
   "source": [
    "lista_links_episodios = []\n",
    "    "
   ]
  },
  {
   "cell_type": "code",
   "execution_count": 118,
   "metadata": {},
   "outputs": [
    {
     "name": "stdout",
     "output_type": "stream",
     "text": [
      "https://www.starz.com/ar/es/series/the-spanish-princess/season-1/42458\n",
      "https://www.starz.com/ar/es/series/the-spanish-princess/season-2/52490\n",
      "******FIN******\n"
     ]
    }
   ],
   "source": [
    "for i in lista_temporadas:\n",
    "    print(i)\n",
    "    driver.get(i)\n",
    "    time.sleep(15)\n",
    "    for episodio in driver.find_elements_by_class_name('episodes-container flexgrid'):\n",
    "        titulo = episodio.find_elements_by_xpath('/html/body/starz-root/div/div[1]/section/starz-series-details/div[2]/starz-episodes/div/div[2]/div[1]/div/div[2]/a/h6').text\n",
    "        print(titulo)\n",
    "        clasificacion = episodio.find_elements_by_xpath('//*[@id=\"subview-container\"]/starz-series-details/div[2]/starz-episodes/div/div[2]/div[1]/div/div[2]/a/ul/li[1]').text\n",
    "        duracion = episodio.find_elements_by_xpath('//*[@id=\"subview-container\"]/starz-series-details/div[2]/starz-episodes/div/div[2]/div[1]/div/div[2]/a/ul/li[1]').text\n",
    "        anio = episodio.find_elements_by_xpath('//*[@id=\"subview-container\"]/starz-series-details/div[2]/starz-episodes/div/div[2]/div[1]/div/div[2]/a/ul/li[1]').text\n",
    "        tipo_de_sonido = episodio.find_elements_by_xpath('//*[@id=\"subview-container\"]/starz-series-details/div[2]/starz-episodes/div/div[2]/div[1]/div/div[2]/a/ul/li[1]').text\n",
    "        sinopsis = episodio.find_elements_by_xpath('//*[@id=\"subview-container\"]/starz-series-details/div[2]/starz-episodes/div/div[2]/div[1]/div/div[2]/div/p').text\n",
    "        diccionario_episodio = {\n",
    "            'titulo':titulo,\n",
    "            'clasificacion':clasificacion,\n",
    "            'duracion':duracion,\n",
    "            'año':anio,\n",
    "            'sinopsis':sinopsis\n",
    "        }\n",
    "        lista_episodios.append(diccionario_episodio)\n",
    "print('******FIN******')"
   ]
  },
  {
   "cell_type": "code",
   "execution_count": 119,
   "metadata": {},
   "outputs": [
    {
     "data": {
      "text/plain": [
       "[]"
      ]
     },
     "execution_count": 119,
     "metadata": {},
     "output_type": "execute_result"
    }
   ],
   "source": [
    "lista_episodios"
   ]
  },
  {
   "cell_type": "code",
   "execution_count": 67,
   "metadata": {},
   "outputs": [],
   "source": [
    "lista_episodios = [link for link in lista_links_episodios if episode_match in link]"
   ]
  },
  {
   "cell_type": "code",
   "execution_count": 72,
   "metadata": {},
   "outputs": [
    {
     "data": {
      "text/plain": [
       "['https://www.starz.com/series/the-spanish-princess/season-1/episode-1/44185',\n",
       " 'https://www.starz.com/series/the-spanish-princess/season-1/episode-2/44219',\n",
       " 'https://www.starz.com/series/the-spanish-princess/season-1/episode-3/44390',\n",
       " 'https://www.starz.com/series/the-spanish-princess/season-1/episode-4/44543',\n",
       " 'https://www.starz.com/series/the-spanish-princess/season-1/episode-5/44622',\n",
       " 'https://www.starz.com/series/the-spanish-princess/season-1/episode-6/44694',\n",
       " 'https://www.starz.com/series/the-spanish-princess/season-1/episode-7/44718',\n",
       " 'https://www.starz.com/series/the-spanish-princess/season-1/episode-8/44730',\n",
       " 'https://www.starz.com/series/the-spanish-princess/season-2/episode-1/56201',\n",
       " 'https://www.starz.com/series/the-spanish-princess/season-2/episode-2/56206',\n",
       " 'https://www.starz.com/series/the-spanish-princess/season-2/episode-3/56208',\n",
       " 'https://www.starz.com/series/the-spanish-princess/season-2/episode-4/56209',\n",
       " 'https://www.starz.com/series/the-spanish-princess/season-2/episode-5/56210',\n",
       " 'https://www.starz.com/series/the-spanish-princess/season-2/episode-6/56211',\n",
       " 'https://www.starz.com/series/the-spanish-princess/season-2/episode-7/56212',\n",
       " 'https://www.starz.com/series/the-spanish-princess/season-2/episode-8/56213',\n",
       " 'https://www.starz.com/series/the-spanish-princess/season-2/episode-1/61397']"
      ]
     },
     "execution_count": 72,
     "metadata": {},
     "output_type": "execute_result"
    }
   ],
   "source": [
    "lista_episodios"
   ]
  },
  {
   "cell_type": "code",
   "execution_count": 69,
   "metadata": {},
   "outputs": [],
   "source": [
    "lista_episodios_final = []"
   ]
  },
  {
   "cell_type": "code",
   "execution_count": 76,
   "metadata": {},
   "outputs": [
    {
     "name": "stdout",
     "output_type": "stream",
     "text": [
      "https://www.starz.com/series/the-spanish-princess/season-1/episode-1/44185\n"
     ]
    },
    {
     "ename": "InvalidSelectorException",
     "evalue": "Message: invalid selector: An invalid or illegal selector was specified\n  (Session info: chrome=97.0.4692.99)\n",
     "output_type": "error",
     "traceback": [
      "\u001b[1;31m---------------------------------------------------------------------------\u001b[0m",
      "\u001b[1;31mInvalidSelectorException\u001b[0m                  Traceback (most recent call last)",
      "\u001b[1;32m<ipython-input-76-f86ac21bc149>\u001b[0m in \u001b[0;36m<module>\u001b[1;34m\u001b[0m\n\u001b[0;32m      3\u001b[0m     \u001b[0mdriver\u001b[0m\u001b[1;33m.\u001b[0m\u001b[0mget\u001b[0m\u001b[1;33m(\u001b[0m\u001b[0mlink\u001b[0m\u001b[1;33m)\u001b[0m\u001b[1;33m\u001b[0m\u001b[1;33m\u001b[0m\u001b[0m\n\u001b[0;32m      4\u001b[0m     \u001b[0mtime\u001b[0m\u001b[1;33m.\u001b[0m\u001b[0msleep\u001b[0m\u001b[1;33m(\u001b[0m\u001b[1;36m3\u001b[0m\u001b[1;33m)\u001b[0m\u001b[1;33m\u001b[0m\u001b[1;33m\u001b[0m\u001b[0m\n\u001b[1;32m----> 5\u001b[1;33m     \u001b[0mtitulo\u001b[0m \u001b[1;33m=\u001b[0m \u001b[0mdriver\u001b[0m\u001b[1;33m.\u001b[0m\u001b[0mfind_elements_by_class_name\u001b[0m\u001b[1;33m(\u001b[0m\u001b[1;34m'//*[@id=\"subview-container\"]/starz-series-details/div[2]/starz-episodes/div/div[2]/div[1]/div/div[2]/a/h6'\u001b[0m\u001b[1;33m)\u001b[0m\u001b[1;33m.\u001b[0m\u001b[0mtext\u001b[0m\u001b[1;33m\u001b[0m\u001b[1;33m\u001b[0m\u001b[0m\n\u001b[0m\u001b[0;32m      6\u001b[0m     \u001b[0mclasificacion\u001b[0m \u001b[1;33m=\u001b[0m \u001b[0mdriver\u001b[0m\u001b[1;33m.\u001b[0m\u001b[0mfind_elements_by_xpath\u001b[0m\u001b[1;33m(\u001b[0m\u001b[1;34m'//*[@id=\"subview-container\"]/starz-series-details/div[2]/starz-episodes/div/div[2]/div[1]/div/div[2]/a/ul/li[1]'\u001b[0m\u001b[1;33m)\u001b[0m\u001b[1;33m.\u001b[0m\u001b[0mtext\u001b[0m\u001b[1;33m\u001b[0m\u001b[1;33m\u001b[0m\u001b[0m\n\u001b[0;32m      7\u001b[0m     \u001b[0mduracion\u001b[0m \u001b[1;33m=\u001b[0m \u001b[0mdriver\u001b[0m\u001b[1;33m.\u001b[0m\u001b[0mfind_elements_by_xpath\u001b[0m\u001b[1;33m(\u001b[0m\u001b[1;34m'//*[@id=\"subview-container\"]/starz-series-details/div[2]/starz-episodes/div/div[2]/div[1]/div/div[2]/a/ul/li[1]'\u001b[0m\u001b[1;33m)\u001b[0m\u001b[1;33m.\u001b[0m\u001b[0mtext\u001b[0m\u001b[1;33m\u001b[0m\u001b[1;33m\u001b[0m\u001b[0m\n",
      "\u001b[1;32mc:\\users\\bravin\\appdata\\local\\programs\\python\\python38\\lib\\site-packages\\selenium\\webdriver\\remote\\webdriver.py\u001b[0m in \u001b[0;36mfind_elements_by_class_name\u001b[1;34m(self, name)\u001b[0m\n\u001b[0;32m    578\u001b[0m             \u001b[0melements\u001b[0m \u001b[1;33m=\u001b[0m \u001b[0mdriver\u001b[0m\u001b[1;33m.\u001b[0m\u001b[0mfind_elements_by_class_name\u001b[0m\u001b[1;33m(\u001b[0m\u001b[1;34m'foo'\u001b[0m\u001b[1;33m)\u001b[0m\u001b[1;33m\u001b[0m\u001b[1;33m\u001b[0m\u001b[0m\n\u001b[0;32m    579\u001b[0m         \"\"\"\n\u001b[1;32m--> 580\u001b[1;33m         \u001b[1;32mreturn\u001b[0m \u001b[0mself\u001b[0m\u001b[1;33m.\u001b[0m\u001b[0mfind_elements\u001b[0m\u001b[1;33m(\u001b[0m\u001b[0mby\u001b[0m\u001b[1;33m=\u001b[0m\u001b[0mBy\u001b[0m\u001b[1;33m.\u001b[0m\u001b[0mCLASS_NAME\u001b[0m\u001b[1;33m,\u001b[0m \u001b[0mvalue\u001b[0m\u001b[1;33m=\u001b[0m\u001b[0mname\u001b[0m\u001b[1;33m)\u001b[0m\u001b[1;33m\u001b[0m\u001b[1;33m\u001b[0m\u001b[0m\n\u001b[0m\u001b[0;32m    581\u001b[0m \u001b[1;33m\u001b[0m\u001b[0m\n\u001b[0;32m    582\u001b[0m     \u001b[1;32mdef\u001b[0m \u001b[0mfind_element_by_css_selector\u001b[0m\u001b[1;33m(\u001b[0m\u001b[0mself\u001b[0m\u001b[1;33m,\u001b[0m \u001b[0mcss_selector\u001b[0m\u001b[1;33m)\u001b[0m\u001b[1;33m:\u001b[0m\u001b[1;33m\u001b[0m\u001b[1;33m\u001b[0m\u001b[0m\n",
      "\u001b[1;32mc:\\users\\bravin\\appdata\\local\\programs\\python\\python38\\lib\\site-packages\\selenium\\webdriver\\remote\\webdriver.py\u001b[0m in \u001b[0;36mfind_elements\u001b[1;34m(self, by, value)\u001b[0m\n\u001b[0;32m   1003\u001b[0m         \u001b[1;31m# Return empty list if driver returns null\u001b[0m\u001b[1;33m\u001b[0m\u001b[1;33m\u001b[0m\u001b[1;33m\u001b[0m\u001b[0m\n\u001b[0;32m   1004\u001b[0m         \u001b[1;31m# See https://github.com/SeleniumHQ/selenium/issues/4555\u001b[0m\u001b[1;33m\u001b[0m\u001b[1;33m\u001b[0m\u001b[1;33m\u001b[0m\u001b[0m\n\u001b[1;32m-> 1005\u001b[1;33m         return self.execute(Command.FIND_ELEMENTS, {\n\u001b[0m\u001b[0;32m   1006\u001b[0m             \u001b[1;34m'using'\u001b[0m\u001b[1;33m:\u001b[0m \u001b[0mby\u001b[0m\u001b[1;33m,\u001b[0m\u001b[1;33m\u001b[0m\u001b[1;33m\u001b[0m\u001b[0m\n\u001b[0;32m   1007\u001b[0m             'value': value})['value'] or []\n",
      "\u001b[1;32mc:\\users\\bravin\\appdata\\local\\programs\\python\\python38\\lib\\site-packages\\selenium\\webdriver\\remote\\webdriver.py\u001b[0m in \u001b[0;36mexecute\u001b[1;34m(self, driver_command, params)\u001b[0m\n\u001b[0;32m    319\u001b[0m         \u001b[0mresponse\u001b[0m \u001b[1;33m=\u001b[0m \u001b[0mself\u001b[0m\u001b[1;33m.\u001b[0m\u001b[0mcommand_executor\u001b[0m\u001b[1;33m.\u001b[0m\u001b[0mexecute\u001b[0m\u001b[1;33m(\u001b[0m\u001b[0mdriver_command\u001b[0m\u001b[1;33m,\u001b[0m \u001b[0mparams\u001b[0m\u001b[1;33m)\u001b[0m\u001b[1;33m\u001b[0m\u001b[1;33m\u001b[0m\u001b[0m\n\u001b[0;32m    320\u001b[0m         \u001b[1;32mif\u001b[0m \u001b[0mresponse\u001b[0m\u001b[1;33m:\u001b[0m\u001b[1;33m\u001b[0m\u001b[1;33m\u001b[0m\u001b[0m\n\u001b[1;32m--> 321\u001b[1;33m             \u001b[0mself\u001b[0m\u001b[1;33m.\u001b[0m\u001b[0merror_handler\u001b[0m\u001b[1;33m.\u001b[0m\u001b[0mcheck_response\u001b[0m\u001b[1;33m(\u001b[0m\u001b[0mresponse\u001b[0m\u001b[1;33m)\u001b[0m\u001b[1;33m\u001b[0m\u001b[1;33m\u001b[0m\u001b[0m\n\u001b[0m\u001b[0;32m    322\u001b[0m             response['value'] = self._unwrap_value(\n\u001b[0;32m    323\u001b[0m                 response.get('value', None))\n",
      "\u001b[1;32mc:\\users\\bravin\\appdata\\local\\programs\\python\\python38\\lib\\site-packages\\selenium\\webdriver\\remote\\errorhandler.py\u001b[0m in \u001b[0;36mcheck_response\u001b[1;34m(self, response)\u001b[0m\n\u001b[0;32m    240\u001b[0m                 \u001b[0malert_text\u001b[0m \u001b[1;33m=\u001b[0m \u001b[0mvalue\u001b[0m\u001b[1;33m[\u001b[0m\u001b[1;34m'alert'\u001b[0m\u001b[1;33m]\u001b[0m\u001b[1;33m.\u001b[0m\u001b[0mget\u001b[0m\u001b[1;33m(\u001b[0m\u001b[1;34m'text'\u001b[0m\u001b[1;33m)\u001b[0m\u001b[1;33m\u001b[0m\u001b[1;33m\u001b[0m\u001b[0m\n\u001b[0;32m    241\u001b[0m             \u001b[1;32mraise\u001b[0m \u001b[0mexception_class\u001b[0m\u001b[1;33m(\u001b[0m\u001b[0mmessage\u001b[0m\u001b[1;33m,\u001b[0m \u001b[0mscreen\u001b[0m\u001b[1;33m,\u001b[0m \u001b[0mstacktrace\u001b[0m\u001b[1;33m,\u001b[0m \u001b[0malert_text\u001b[0m\u001b[1;33m)\u001b[0m\u001b[1;33m\u001b[0m\u001b[1;33m\u001b[0m\u001b[0m\n\u001b[1;32m--> 242\u001b[1;33m         \u001b[1;32mraise\u001b[0m \u001b[0mexception_class\u001b[0m\u001b[1;33m(\u001b[0m\u001b[0mmessage\u001b[0m\u001b[1;33m,\u001b[0m \u001b[0mscreen\u001b[0m\u001b[1;33m,\u001b[0m \u001b[0mstacktrace\u001b[0m\u001b[1;33m)\u001b[0m\u001b[1;33m\u001b[0m\u001b[1;33m\u001b[0m\u001b[0m\n\u001b[0m\u001b[0;32m    243\u001b[0m \u001b[1;33m\u001b[0m\u001b[0m\n\u001b[0;32m    244\u001b[0m     \u001b[1;32mdef\u001b[0m \u001b[0m_value_or_default\u001b[0m\u001b[1;33m(\u001b[0m\u001b[0mself\u001b[0m\u001b[1;33m,\u001b[0m \u001b[0mobj\u001b[0m\u001b[1;33m,\u001b[0m \u001b[0mkey\u001b[0m\u001b[1;33m,\u001b[0m \u001b[0mdefault\u001b[0m\u001b[1;33m)\u001b[0m\u001b[1;33m:\u001b[0m\u001b[1;33m\u001b[0m\u001b[1;33m\u001b[0m\u001b[0m\n",
      "\u001b[1;31mInvalidSelectorException\u001b[0m: Message: invalid selector: An invalid or illegal selector was specified\n  (Session info: chrome=97.0.4692.99)\n"
     ]
    }
   ],
   "source": [
    "for link in lista_episodios:\n",
    "    print(link)\n",
    "    driver.get(link)\n",
    "    time.sleep(3)\n",
    "    titulo = driver.find_elements_by_class_name('//*[@id=\"subview-container\"]/starz-series-details/div[2]/starz-episodes/div/div[2]/div[1]/div/div[2]/a/h6').text\n",
    "    clasificacion = driver.find_elements_by_xpath('//*[@id=\"subview-container\"]/starz-series-details/div[2]/starz-episodes/div/div[2]/div[1]/div/div[2]/a/ul/li[1]').text\n",
    "    duracion = driver.find_elements_by_xpath('//*[@id=\"subview-container\"]/starz-series-details/div[2]/starz-episodes/div/div[2]/div[1]/div/div[2]/a/ul/li[1]').text\n",
    "    anio = driver.find_elements_by_xpath('//*[@id=\"subview-container\"]/starz-series-details/div[2]/starz-episodes/div/div[2]/div[1]/div/div[2]/a/ul/li[1]').text\n",
    "    tipo_de_sonido = driver.find_elements_by_xpath('//*[@id=\"subview-container\"]/starz-series-details/div[2]/starz-episodes/div/div[2]/div[1]/div/div[2]/a/ul/li[1]').text\n",
    "    sinopsis = driver.find_elements_by_xpath('//*[@id=\"subview-container\"]/starz-series-details/div[2]/starz-episodes/div/div[2]/div[1]/div/div[2]/div/p').text\n",
    "    diccionario_episodio = {\n",
    "        'titulo':titulo,\n",
    "        'clasificacion':clasificacion,\n",
    "        'duracion':duracion,\n",
    "        'año':anio,\n",
    "        'sinopsis':sinopsis\n",
    "    }\n",
    "    lista_episodios_final.append(diccionario_episodio)"
   ]
  },
  {
   "cell_type": "code",
   "execution_count": 156,
   "metadata": {},
   "outputs": [],
   "source": []
  },
  {
   "cell_type": "code",
   "execution_count": 157,
   "metadata": {},
   "outputs": [],
   "source": [
    "lista_serie.append(diccionario_serie)"
   ]
  },
  {
   "cell_type": "code",
   "execution_count": 158,
   "metadata": {},
   "outputs": [
    {
     "data": {
      "text/plain": [
       "[{'titulo': 'The Spanish Princess',\n",
       "  'clasificacion': 'SAM16',\n",
       "  'episodios': '17 EPISODIOS',\n",
       "  'genero': 'DRAMA, HISTÓRICA',\n",
       "  'año': '2019 - 2020',\n",
       "  'sinopsis': '\"The Spanish Princess\" es la vívida y cautivante narración de la historia de Catalina de Aragón, que ha sido históricamente eclipsada por su infame matrimonio con el rey Enrique VIII',\n",
       "  'lista_episodios': ['https://www.starz.com/series/the-white-queen/season-1/episode-1/18334',\n",
       "   'https://www.starz.com/series/the-white-queen/season-1/episode-2/18375',\n",
       "   'https://www.starz.com/series/the-white-queen/season-1/episode-3/18416',\n",
       "   'https://www.starz.com/series/the-white-queen/season-1/episode-4/18563',\n",
       "   'https://www.starz.com/series/the-white-queen/season-1/episode-5/18639',\n",
       "   'https://www.starz.com/series/the-white-queen/season-1/episode-6/18707',\n",
       "   'https://www.starz.com/series/the-white-queen/season-1/episode-7/18769',\n",
       "   'https://www.starz.com/series/the-white-queen/season-1/episode-8/18834',\n",
       "   'https://www.starz.com/series/the-white-queen/season-1/episode-9/18890',\n",
       "   'https://www.starz.com/series/the-white-queen/season-1/episode-10/18925']}]"
      ]
     },
     "execution_count": 158,
     "metadata": {},
     "output_type": "execute_result"
    }
   ],
   "source": [
    "lista_serie"
   ]
  },
  {
   "cell_type": "code",
   "execution_count": 122,
   "metadata": {},
   "outputs": [],
   "source": [
    "df = pd.DataFrame(lista_serie)"
   ]
  },
  {
   "cell_type": "code",
   "execution_count": 123,
   "metadata": {},
   "outputs": [
    {
     "data": {
      "text/html": [
       "<div>\n",
       "<style scoped>\n",
       "    .dataframe tbody tr th:only-of-type {\n",
       "        vertical-align: middle;\n",
       "    }\n",
       "\n",
       "    .dataframe tbody tr th {\n",
       "        vertical-align: top;\n",
       "    }\n",
       "\n",
       "    .dataframe thead th {\n",
       "        text-align: right;\n",
       "    }\n",
       "</style>\n",
       "<table border=\"1\" class=\"dataframe\">\n",
       "  <thead>\n",
       "    <tr style=\"text-align: right;\">\n",
       "      <th></th>\n",
       "      <th>titulo</th>\n",
       "      <th>clasificacion</th>\n",
       "      <th>episodios</th>\n",
       "      <th>genero</th>\n",
       "      <th>año</th>\n",
       "      <th>sinopsis</th>\n",
       "      <th>lista_episodios</th>\n",
       "    </tr>\n",
       "  </thead>\n",
       "  <tbody>\n",
       "    <tr>\n",
       "      <th>0</th>\n",
       "      <td>The White Queen</td>\n",
       "      <td>SAM16</td>\n",
       "      <td>10 EPISODIOS</td>\n",
       "      <td>DRAMA, LITERARIA</td>\n",
       "      <td>2013</td>\n",
       "      <td>\"The White Queen\" es una fascinante historia d...</td>\n",
       "      <td>[https://www.starz.com/series/the-white-queen/...</td>\n",
       "    </tr>\n",
       "  </tbody>\n",
       "</table>\n",
       "</div>"
      ],
      "text/plain": [
       "            titulo clasificacion     episodios            genero   año  \\\n",
       "0  The White Queen         SAM16  10 EPISODIOS  DRAMA, LITERARIA  2013   \n",
       "\n",
       "                                            sinopsis  \\\n",
       "0  \"The White Queen\" es una fascinante historia d...   \n",
       "\n",
       "                                     lista_episodios  \n",
       "0  [https://www.starz.com/series/the-white-queen/...  "
      ]
     },
     "execution_count": 123,
     "metadata": {},
     "output_type": "execute_result"
    }
   ],
   "source": []
  },
  {
   "cell_type": "code",
   "execution_count": 124,
   "metadata": {},
   "outputs": [],
   "source": [
    "df.to_csv('datasets/una_serie.csv')"
   ]
  },
  {
   "cell_type": "code",
   "execution_count": 125,
   "metadata": {},
   "outputs": [],
   "source": [
    "df.to_json('datasets/una_serie.json')"
   ]
  },
  {
   "cell_type": "code",
   "execution_count": null,
   "metadata": {},
   "outputs": [],
   "source": [
    "driver.quit()"
   ]
  }
 ],
 "metadata": {
  "kernelspec": {
   "display_name": "Python 3",
   "language": "python",
   "name": "python3"
  },
  "language_info": {
   "codemirror_mode": {
    "name": "ipython",
    "version": 3
   },
   "file_extension": ".py",
   "mimetype": "text/x-python",
   "name": "python",
   "nbconvert_exporter": "python",
   "pygments_lexer": "ipython3",
   "version": "3.8.1"
  }
 },
 "nbformat": 4,
 "nbformat_minor": 4
}
