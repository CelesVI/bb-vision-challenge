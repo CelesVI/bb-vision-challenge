{
 "cells": [
  {
   "cell_type": "code",
   "execution_count": 1,
   "metadata": {},
   "outputs": [
    {
     "name": "stdout",
     "output_type": "stream",
     "text": [
      "12\n",
      "222\n",
      "6\n",
      "110\n",
      "6\n",
      "112\n"
     ]
    }
   ],
   "source": [
    "lista = [1,8,26,4,2,9,45,33,52,11,18,13]\n",
    "\n",
    "# En base a la lista  [1,8,26,4,2,9,45,33,52,11,18,13]:\n",
    "\n",
    "#Crear una lista llamada \"Par\", con los números pares\n",
    "\n",
    "lista_par = [x for x in lista if x%2==0]\n",
    "\n",
    "#Crear una lista llamada \"Impar\" con los números impares\n",
    "\n",
    "lista_impar = [x for x in lista if x%2==1]\n",
    "\n",
    "#Imprimir la cantidad y la suma de elementos de la lista inicial\n",
    "\n",
    "#Cantidad\n",
    "print(len(lista))\n",
    "\n",
    "#Suma\n",
    "print(sum(lista))\n",
    "\n",
    "#Imprimir la cantidad y el total de la suma de los numeros de la lista \"Par\"\n",
    "\n",
    "#Cantidad\n",
    "print(len(lista_par))\n",
    "\n",
    "#Suma\n",
    "print(sum(lista_par))\n",
    "\n",
    "#Imprimir la cantidad y el total de la suma de los numeros de la lista \"Impar\"\n",
    "\n",
    "#Cantidad\n",
    "print(len(lista_impar))\n",
    "\n",
    "#Suma\n",
    "print(sum(lista_impar))"
   ]
  },
  {
   "cell_type": "code",
   "execution_count": null,
   "metadata": {},
   "outputs": [],
   "source": []
  }
 ],
 "metadata": {
  "kernelspec": {
   "display_name": "Python 3",
   "language": "python",
   "name": "python3"
  },
  "language_info": {
   "codemirror_mode": {
    "name": "ipython",
    "version": 3
   },
   "file_extension": ".py",
   "mimetype": "text/x-python",
   "name": "python",
   "nbconvert_exporter": "python",
   "pygments_lexer": "ipython3",
   "version": "3.8.1"
  }
 },
 "nbformat": 4,
 "nbformat_minor": 4
}
