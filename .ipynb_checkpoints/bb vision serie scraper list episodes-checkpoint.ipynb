{
 "cells": [
  {
   "cell_type": "code",
   "execution_count": 60,
   "metadata": {},
   "outputs": [],
   "source": [
    "from selenium import webdriver\n",
    "import pandas as pd\n",
    "import time"
   ]
  },
  {
   "cell_type": "code",
   "execution_count": 125,
   "metadata": {},
   "outputs": [],
   "source": [
    "url = \"https://www.starz.com/ar/es/series/the-spanish-princess/42457\""
   ]
  },
  {
   "cell_type": "code",
   "execution_count": 126,
   "metadata": {},
   "outputs": [],
   "source": [
    "driver = webdriver.Chrome(executable_path = r'chromedriver.exe')"
   ]
  },
  {
   "cell_type": "code",
   "execution_count": 129,
   "metadata": {},
   "outputs": [],
   "source": [
    "driver.get(url)"
   ]
  },
  {
   "cell_type": "code",
   "execution_count": 130,
   "metadata": {},
   "outputs": [],
   "source": [
    "titulo_serie= driver.find_element_by_xpath('.//*[@id=\"seriesDetailsH1\"]').text"
   ]
  },
  {
   "cell_type": "code",
   "execution_count": 131,
   "metadata": {},
   "outputs": [
    {
     "data": {
      "text/plain": [
       "'The Spanish Princess'"
      ]
     },
     "execution_count": 131,
     "metadata": {},
     "output_type": "execute_result"
    }
   ],
   "source": [
    "titulo_serie"
   ]
  },
  {
   "cell_type": "code",
   "execution_count": 66,
   "metadata": {},
   "outputs": [],
   "source": [
    "lista_links = []"
   ]
  },
  {
   "cell_type": "code",
   "execution_count": 67,
   "metadata": {},
   "outputs": [],
   "source": [
    "for link in driver.find_elements_by_xpath('.//a'):\n",
    "    lista_links.append(link.get_attribute('href'))"
   ]
  },
  {
   "cell_type": "code",
   "execution_count": 68,
   "metadata": {},
   "outputs": [],
   "source": [
    "lista_links = list(filter(None, lista_links))"
   ]
  },
  {
   "cell_type": "code",
   "execution_count": 69,
   "metadata": {},
   "outputs": [
    {
     "data": {
      "text/plain": [
       "['https://www.starz.com/ar/es/',\n",
       " 'https://www.starz.com/ar/es/',\n",
       " 'https://www.starz.com/ar/es/series',\n",
       " 'https://www.starz.com/ar/es/movies',\n",
       " 'https://www.starz.com/ar/es/search',\n",
       " 'https://www.starz.com/ar/es/login',\n",
       " 'https://www.starz.com/ar/es/signup',\n",
       " 'https://www.facebook.com/STARZPLAYLATAM/',\n",
       " 'https://twitter.com/starzplaylatam',\n",
       " 'https://www.instagram.com/starzplaylatam/',\n",
       " 'https://www.starz.com/ar/es/#',\n",
       " 'https://www.starz.com/ar/es/signup',\n",
       " 'https://www.facebook.com/STARZPLAYLATAM/',\n",
       " 'https://twitter.com/starzplaylatam',\n",
       " 'https://www.instagram.com/starzplaylatam/',\n",
       " 'https://www.starz.com/ar/es/#',\n",
       " 'https://www.starz.com/ar/es/series/the-spanish-princess/season-1/42458',\n",
       " 'https://www.starz.com/ar/es/series/the-spanish-princess/season-2/52490',\n",
       " 'https://www.starz.com/ar/es/play/44185',\n",
       " 'https://www.starz.com/ar/es/play/44185',\n",
       " 'https://www.starz.com/series/the-spanish-princess/season-1/episode-1/44185',\n",
       " 'https://www.starz.com/ar/es/play/44219',\n",
       " 'https://www.starz.com/ar/es/play/44219',\n",
       " 'https://www.starz.com/series/the-spanish-princess/season-1/episode-2/44219',\n",
       " 'https://www.starz.com/ar/es/play/44390',\n",
       " 'https://www.starz.com/ar/es/play/44390',\n",
       " 'https://www.starz.com/series/the-spanish-princess/season-1/episode-3/44390',\n",
       " 'https://www.starz.com/ar/es/play/44543',\n",
       " 'https://www.starz.com/ar/es/play/44543',\n",
       " 'https://www.starz.com/series/the-spanish-princess/season-1/episode-4/44543',\n",
       " 'https://www.starz.com/ar/es/play/44622',\n",
       " 'https://www.starz.com/ar/es/play/44622',\n",
       " 'https://www.starz.com/series/the-spanish-princess/season-1/episode-5/44622',\n",
       " 'https://www.starz.com/ar/es/play/44694',\n",
       " 'https://www.starz.com/ar/es/play/44694',\n",
       " 'https://www.starz.com/series/the-spanish-princess/season-1/episode-6/44694',\n",
       " 'https://www.starz.com/ar/es/play/44718',\n",
       " 'https://www.starz.com/ar/es/play/44718',\n",
       " 'https://www.starz.com/series/the-spanish-princess/season-1/episode-7/44718',\n",
       " 'https://www.starz.com/ar/es/play/44730',\n",
       " 'https://www.starz.com/ar/es/play/44730',\n",
       " 'https://www.starz.com/series/the-spanish-princess/season-1/episode-8/44730',\n",
       " 'https://www.starz.com/ar/es/browse/if-you-like/the-spanish-princess/42457',\n",
       " 'https://www.starz.com/ar/es/series/power-book-ii-ghost/58002',\n",
       " 'https://www.starz.com/ar/es/series/seduced-inside-the-nxivm-cult/59967',\n",
       " 'https://www.starz.com/ar/es/series/p-valley/46156',\n",
       " 'https://www.starz.com/ar/es/series/blindspotting/62263',\n",
       " 'https://www.starz.com/ar/es/series/power-book-iii-raising-kanan/58458',\n",
       " 'https://www.starz.com/ar/es/series/express/63120',\n",
       " 'https://www.starz.com/ar/es/series/power-book-iv-force/62261',\n",
       " 'https://www.starz.com/ar/es/series/baptiste/45713',\n",
       " 'https://www.starz.com/ar/es/series/the-great/57979',\n",
       " 'https://www.starz.com/ar/es/browse/originals',\n",
       " 'https://www.starz.com/ar/es/movies/el-sorprendente-hombre-ara%C3%B1a-2-la-amenaza-de-electro-50064',\n",
       " 'https://www.starz.com/ar/es/movies/oscura-seducci%C3%B3n-60743',\n",
       " 'https://www.starz.com/ar/es/movies/el-justiciero-22163',\n",
       " 'https://www.starz.com/ar/es/movies/los-juegos-del-hambre-sinsajo-el-final-50756',\n",
       " 'https://www.starz.com/ar/es/movies',\n",
       " 'https://www.starz.com/ar/es/series/the-great/57979',\n",
       " 'https://www.starz.com/ar/es/series/express/63120',\n",
       " 'https://www.starz.com/ar/es/series/the-act/46154',\n",
       " 'https://www.starz.com/ar/es/series/the-spanish-princess/42457',\n",
       " 'https://www.starz.com/ar/es/series',\n",
       " 'https://www.starz.com/ar/es/signup',\n",
       " 'https://www.starz.com/ar/es/login',\n",
       " 'https://www.starz.com/ar/es/faq',\n",
       " 'https://www.starz.com/ar/es/login/activate',\n",
       " 'https://www.starz.com/ar/es/supporteddevices',\n",
       " 'https://www.facebook.com/STARZPLAYLATAM/',\n",
       " 'https://twitter.com/starzplaylatam',\n",
       " 'https://www.instagram.com/starzplaylatam/',\n",
       " 'https://www.facebook.com/STARZPLAYLATAM/',\n",
       " 'https://twitter.com/starzplaylatam',\n",
       " 'https://www.instagram.com/starzplaylatam/',\n",
       " 'https://www.starz.com/ar/es/',\n",
       " 'https://www.starz.com/ar/es/login',\n",
       " 'https://www.starz.com/ar/es/search',\n",
       " 'https://www.starz.com/ar/es/series/express/63120',\n",
       " 'https://www.starz.com/ar/es/series/power-book-iv-force/62261',\n",
       " 'https://www.starz.com/ar/es/series/baptiste/45713',\n",
       " 'https://www.starz.com/ar/es/series/the-great/57979',\n",
       " 'https://www.starz.com/ar/es/series/power-book-ii-ghost/58002',\n",
       " 'https://www.starz.com/ar/es/series/malayerba/64882',\n",
       " 'https://www.starz.com/ar/es/series/dr-death-the-undoctored-story/65195',\n",
       " 'https://www.starz.com/ar/es/series/hightown/57463',\n",
       " 'https://www.starz.com/ar/es/series/bmf/62264',\n",
       " 'https://www.starz.com/ar/es/series/dr-death/61268',\n",
       " 'https://www.starz.com/ar/es/series/heels/60760',\n",
       " 'https://www.starz.com/ar/es/series/the-girlfriend-experience/25586',\n",
       " 'https://www.starz.com/ar/es/series/power-book-iii-raising-kanan/58458',\n",
       " 'https://www.starz.com/ar/es/series/blindspotting/62263',\n",
       " 'https://www.starz.com/ar/es/series/run-the-world/58457',\n",
       " 'https://www.starz.com/ar/es/series/confronting-a-serial-killer/59920',\n",
       " 'https://www.starz.com/ar/es/series/pennyworth/57149',\n",
       " 'https://www.starz.com/ar/es/series/the-act/46154',\n",
       " 'https://www.starz.com/ar/es/series/the-attach%C3%A9/62262',\n",
       " 'https://www.starz.com/ar/es/series/the-stand/61994',\n",
       " 'https://www.starz.com/ar/es/series/little-birds/62168',\n",
       " 'https://www.starz.com/ar/es/series/normal-people/60083',\n",
       " 'https://www.starz.com/ar/es/series/p-valley/46156',\n",
       " 'https://www.starz.com/ar/es/series/seduced-inside-the-nxivm-cult/59967',\n",
       " 'https://www.starz.com/ar/es/series/the-night-manager/61267',\n",
       " 'https://www.starz.com/ar/es/series/gangs-of-london/60530',\n",
       " 'https://www.starz.com/ar/es/series/no-mans-land/61940',\n",
       " 'https://www.starz.com/ar/es/series/castle-rock/45522',\n",
       " 'https://www.starz.com/ar/es/series/flesh-and-bone/24528',\n",
       " 'https://www.starz.com/ar/es/series/the-spanish-princess/42457',\n",
       " 'https://www.starz.com/ar/es/browse/genre/acci%C3%B3n',\n",
       " 'https://www.starz.com/ar/es/browse/genre/comedias',\n",
       " 'https://www.starz.com/ar/es/browse/genre/cr%C3%ADmenes-reales',\n",
       " 'https://www.starz.com/ar/es/browse/genre/de-terror',\n",
       " 'https://www.starz.com/ar/es/browse/genre/dramas',\n",
       " 'https://www.starz.com/ar/es/browse/genre/dramas-de-%C3%A9poca',\n",
       " 'https://www.starz.com/ar/es/browse/genre/nuevos-lanzamientos',\n",
       " 'https://www.starz.com/ar/es/browse/genre/rom%C3%A1nticas',\n",
       " 'https://www.starz.com/ar/es/browse/genre/series-dram%C3%A1ticas-de-relaciones',\n",
       " 'https://www.starz.com/ar/es/browse/genre/series-policiales',\n",
       " 'https://www.starz.com/ar/es/browse/genre/si-te-gusta-the-great',\n",
       " 'https://www.starz.com/ar/es/browse/genre/thriller',\n",
       " 'https://www.starz.com/ar/es/browse/genre/%C3%BAltima-oportunidad']"
      ]
     },
     "execution_count": 69,
     "metadata": {},
     "output_type": "execute_result"
    }
   ],
   "source": [
    "lista_links"
   ]
  },
  {
   "cell_type": "code",
   "execution_count": 106,
   "metadata": {},
   "outputs": [],
   "source": [
    "# Creating match patron\n",
    "season_match = \"/season-\"\n",
    "episode_match = \"/episode-\"\n",
    "languaje_insert = \"/ar/es\""
   ]
  },
  {
   "cell_type": "code",
   "execution_count": 71,
   "metadata": {},
   "outputs": [],
   "source": [
    "lista_temporadas = [link for link in lista_links if season_match in link]"
   ]
  },
  {
   "cell_type": "code",
   "execution_count": 72,
   "metadata": {},
   "outputs": [
    {
     "data": {
      "text/plain": [
       "['https://www.starz.com/ar/es/series/the-spanish-princess/season-1/42458',\n",
       " 'https://www.starz.com/ar/es/series/the-spanish-princess/season-2/52490',\n",
       " 'https://www.starz.com/series/the-spanish-princess/season-1/episode-1/44185',\n",
       " 'https://www.starz.com/series/the-spanish-princess/season-1/episode-2/44219',\n",
       " 'https://www.starz.com/series/the-spanish-princess/season-1/episode-3/44390',\n",
       " 'https://www.starz.com/series/the-spanish-princess/season-1/episode-4/44543',\n",
       " 'https://www.starz.com/series/the-spanish-princess/season-1/episode-5/44622',\n",
       " 'https://www.starz.com/series/the-spanish-princess/season-1/episode-6/44694',\n",
       " 'https://www.starz.com/series/the-spanish-princess/season-1/episode-7/44718',\n",
       " 'https://www.starz.com/series/the-spanish-princess/season-1/episode-8/44730']"
      ]
     },
     "execution_count": 72,
     "metadata": {},
     "output_type": "execute_result"
    }
   ],
   "source": [
    "lista_temporadas"
   ]
  },
  {
   "cell_type": "code",
   "execution_count": 73,
   "metadata": {},
   "outputs": [],
   "source": [
    "lista_temporadas = [link for link in lista_temporadas if episode_match not in link]\n"
   ]
  },
  {
   "cell_type": "code",
   "execution_count": 74,
   "metadata": {},
   "outputs": [
    {
     "data": {
      "text/plain": [
       "['https://www.starz.com/ar/es/series/the-spanish-princess/season-1/42458',\n",
       " 'https://www.starz.com/ar/es/series/the-spanish-princess/season-2/52490']"
      ]
     },
     "execution_count": 74,
     "metadata": {},
     "output_type": "execute_result"
    }
   ],
   "source": [
    "lista_temporadas"
   ]
  },
  {
   "cell_type": "code",
   "execution_count": 75,
   "metadata": {},
   "outputs": [],
   "source": [
    "lista_episodios = []"
   ]
  },
  {
   "cell_type": "code",
   "execution_count": 76,
   "metadata": {},
   "outputs": [],
   "source": [
    "lista_links_episodios = []\n",
    "    "
   ]
  },
  {
   "cell_type": "code",
   "execution_count": 77,
   "metadata": {},
   "outputs": [],
   "source": [
    "for link in lista_temporadas:\n",
    "    driver.get(link)\n",
    "    time.sleep(5)\n",
    "    for i in driver.find_elements_by_xpath('.//a'):\n",
    "        lista_links_episodios.append(i.get_attribute('href'))"
   ]
  },
  {
   "cell_type": "code",
   "execution_count": 113,
   "metadata": {},
   "outputs": [],
   "source": [
    "lista_episodios = [link for link in lista_links_episodios if episode_match in link]"
   ]
  },
  {
   "cell_type": "code",
   "execution_count": 114,
   "metadata": {},
   "outputs": [
    {
     "data": {
      "text/plain": [
       "['https://www.starz.com/series/the-spanish-princess/season-1/episode-1/44185',\n",
       " 'https://www.starz.com/series/the-spanish-princess/season-1/episode-2/44219',\n",
       " 'https://www.starz.com/series/the-spanish-princess/season-1/episode-3/44390',\n",
       " 'https://www.starz.com/series/the-spanish-princess/season-1/episode-4/44543',\n",
       " 'https://www.starz.com/series/the-spanish-princess/season-1/episode-5/44622',\n",
       " 'https://www.starz.com/series/the-spanish-princess/season-1/episode-6/44694',\n",
       " 'https://www.starz.com/series/the-spanish-princess/season-1/episode-7/44718',\n",
       " 'https://www.starz.com/series/the-spanish-princess/season-1/episode-8/44730',\n",
       " 'https://www.starz.com/series/the-spanish-princess/season-2/episode-1/56201',\n",
       " 'https://www.starz.com/series/the-spanish-princess/season-2/episode-2/56206',\n",
       " 'https://www.starz.com/series/the-spanish-princess/season-2/episode-3/56208',\n",
       " 'https://www.starz.com/series/the-spanish-princess/season-2/episode-4/56209',\n",
       " 'https://www.starz.com/series/the-spanish-princess/season-2/episode-5/56210',\n",
       " 'https://www.starz.com/series/the-spanish-princess/season-2/episode-6/56211',\n",
       " 'https://www.starz.com/series/the-spanish-princess/season-2/episode-7/56212',\n",
       " 'https://www.starz.com/series/the-spanish-princess/season-2/episode-8/56213',\n",
       " 'https://www.starz.com/series/the-spanish-princess/season-2/episode-1/61397']"
      ]
     },
     "execution_count": 114,
     "metadata": {},
     "output_type": "execute_result"
    }
   ],
   "source": [
    "lista_episodios"
   ]
  },
  {
   "cell_type": "code",
   "execution_count": 115,
   "metadata": {},
   "outputs": [],
   "source": [
    "#Cuando se quiere agregar el es\n",
    "index = link.find('/series/')\n",
    "lista_episodios = [link[:index]+languaje_insert+link[index:] for link in lista_episodios]\n",
    "    \n",
    "    "
   ]
  },
  {
   "cell_type": "code",
   "execution_count": 116,
   "metadata": {},
   "outputs": [
    {
     "data": {
      "text/plain": [
       "['https://www.starz.com/ar/es/series/the-spanish-princess/season-1/episode-1/44185',\n",
       " 'https://www.starz.com/ar/es/series/the-spanish-princess/season-1/episode-2/44219',\n",
       " 'https://www.starz.com/ar/es/series/the-spanish-princess/season-1/episode-3/44390',\n",
       " 'https://www.starz.com/ar/es/series/the-spanish-princess/season-1/episode-4/44543',\n",
       " 'https://www.starz.com/ar/es/series/the-spanish-princess/season-1/episode-5/44622',\n",
       " 'https://www.starz.com/ar/es/series/the-spanish-princess/season-1/episode-6/44694',\n",
       " 'https://www.starz.com/ar/es/series/the-spanish-princess/season-1/episode-7/44718',\n",
       " 'https://www.starz.com/ar/es/series/the-spanish-princess/season-1/episode-8/44730',\n",
       " 'https://www.starz.com/ar/es/series/the-spanish-princess/season-2/episode-1/56201',\n",
       " 'https://www.starz.com/ar/es/series/the-spanish-princess/season-2/episode-2/56206',\n",
       " 'https://www.starz.com/ar/es/series/the-spanish-princess/season-2/episode-3/56208',\n",
       " 'https://www.starz.com/ar/es/series/the-spanish-princess/season-2/episode-4/56209',\n",
       " 'https://www.starz.com/ar/es/series/the-spanish-princess/season-2/episode-5/56210',\n",
       " 'https://www.starz.com/ar/es/series/the-spanish-princess/season-2/episode-6/56211',\n",
       " 'https://www.starz.com/ar/es/series/the-spanish-princess/season-2/episode-7/56212',\n",
       " 'https://www.starz.com/ar/es/series/the-spanish-princess/season-2/episode-8/56213',\n",
       " 'https://www.starz.com/ar/es/series/the-spanish-princess/season-2/episode-1/61397']"
      ]
     },
     "execution_count": 116,
     "metadata": {},
     "output_type": "execute_result"
    }
   ],
   "source": [
    "lista_episodios"
   ]
  },
  {
   "cell_type": "code",
   "execution_count": 117,
   "metadata": {},
   "outputs": [],
   "source": [
    "lista_episodios_final = []"
   ]
  },
  {
   "cell_type": "code",
   "execution_count": 118,
   "metadata": {},
   "outputs": [
    {
     "name": "stdout",
     "output_type": "stream",
     "text": [
      "https://www.starz.com/ar/es/series/the-spanish-princess/season-1/episode-1/44185\n",
      "https://www.starz.com/ar/es/series/the-spanish-princess/season-1/episode-2/44219\n",
      "https://www.starz.com/ar/es/series/the-spanish-princess/season-1/episode-3/44390\n",
      "https://www.starz.com/ar/es/series/the-spanish-princess/season-1/episode-4/44543\n",
      "https://www.starz.com/ar/es/series/the-spanish-princess/season-1/episode-5/44622\n",
      "https://www.starz.com/ar/es/series/the-spanish-princess/season-1/episode-6/44694\n",
      "https://www.starz.com/ar/es/series/the-spanish-princess/season-1/episode-7/44718\n",
      "https://www.starz.com/ar/es/series/the-spanish-princess/season-1/episode-8/44730\n",
      "https://www.starz.com/ar/es/series/the-spanish-princess/season-2/episode-1/56201\n",
      "https://www.starz.com/ar/es/series/the-spanish-princess/season-2/episode-2/56206\n",
      "https://www.starz.com/ar/es/series/the-spanish-princess/season-2/episode-3/56208\n",
      "https://www.starz.com/ar/es/series/the-spanish-princess/season-2/episode-4/56209\n",
      "https://www.starz.com/ar/es/series/the-spanish-princess/season-2/episode-5/56210\n",
      "https://www.starz.com/ar/es/series/the-spanish-princess/season-2/episode-6/56211\n",
      "https://www.starz.com/ar/es/series/the-spanish-princess/season-2/episode-7/56212\n",
      "https://www.starz.com/ar/es/series/the-spanish-princess/season-2/episode-8/56213\n",
      "https://www.starz.com/ar/es/series/the-spanish-princess/season-2/episode-1/61397\n"
     ]
    }
   ],
   "source": [
    "for link in lista_episodios:\n",
    "    print(link)\n",
    "    driver.get(link)\n",
    "    time.sleep(5)\n",
    "    titulo = driver.find_element_by_xpath('.//html/body/starz-root/starz-base-modal/div/div/div/div[2]/starz-episode-details-modal/div/section/div/div[1]/div[2]/h5').text\n",
    "    clasificacion = driver.find_element_by_xpath('.//html/body/starz-root/starz-base-modal/div/div/div/div[2]/starz-episode-details-modal/div/section/div/div[1]/div[2]/ul/li[1]').text\n",
    "    duracion = driver.find_element_by_xpath('.//html/body/starz-root/starz-base-modal/div/div/div/div[2]/starz-episode-details-modal/div/section/div/div[1]/div[2]/ul/li[2]').text\n",
    "    anio = driver.find_element_by_xpath('.//html/body/starz-root/starz-base-modal/div/div/div/div[2]/starz-episode-details-modal/div/section/div/div[1]/div[2]/ul/li[3]').text\n",
    "    tipo_de_sonido = driver.find_element_by_xpath('.//html/body/starz-root/starz-base-modal/div/div/div/div[2]/starz-episode-details-modal/div/section/div/div[1]/div[2]/ul/li[4]').text\n",
    "    sinopsis = driver.find_element_by_xpath('/html/body/starz-root/starz-base-modal/div/div/div/div[2]/starz-episode-details-modal/div/section/div/div[1]/div[2]/div[1]/p[1]').text\n",
    "    diccionario_episodio = {\n",
    "        'titulo':titulo,\n",
    "        'clasificacion':clasificacion,\n",
    "        'duracion':duracion,\n",
    "        'año':anio,\n",
    "        'sinopsis':sinopsis\n",
    "    }\n",
    "    lista_episodios_final.append(diccionario_episodio)"
   ]
  },
  {
   "cell_type": "code",
   "execution_count": 119,
   "metadata": {},
   "outputs": [
    {
     "data": {
      "text/plain": [
       "[{'titulo': 'El Nuevo Mundo',\n",
       "  'clasificacion': 'SAM16',\n",
       "  'duracion': '55 MIN',\n",
       "  'año': '2019',\n",
       "  'sinopsis': 'Catalina de Aragón llega a Inglaterra para casarse con el Príncipe Arturo, heredero del trono inglés, en un contrato matrimonial creado para forjar una alianza entre las'},\n",
       " {'titulo': 'Sueño Febril',\n",
       "  'clasificacion': 'SAM16',\n",
       "  'duracion': '57 MIN',\n",
       "  'año': '2019',\n",
       "  'sinopsis': 'Catalina está un paso más cerca del trono inglés después de su casamiento con Arturo, pero debe navegar los desafíos de una nueva relación y una nueva Corte.'},\n",
       " {'titulo': 'Un Plan Audaz',\n",
       "  'clasificacion': 'SAM16',\n",
       "  'duracion': '54 MIN',\n",
       "  'año': '2019',\n",
       "  'sinopsis': 'Catalina está decidida a ser la futura Reina de Inglaterra y hace planes para casarse con el Príncipe Enrique. La reina Isabel tiene una premonición preocupante después'},\n",
       " {'titulo': 'La Batalla por Enrique',\n",
       "  'clasificacion': 'SAM16',\n",
       "  'duracion': '56 MIN',\n",
       "  'año': '2019',\n",
       "  'sinopsis': 'Mientras la nación llora por la muerte de la Reina Isabel, y Catalina trabaja para asegurar su matrimonio con Enrique, el Rey Enrique VII sorprende a la familia'},\n",
       " {'titulo': 'El Corazón se Enfrenta al Deber',\n",
       "  'clasificacion': 'SAM16',\n",
       "  'duracion': '56 MIN',\n",
       "  'año': '2019',\n",
       "  'sinopsis': 'Catalina se enfrenta a un dilema: casarse con el Rey Enrique VII y convertirse de inmediato en la Reina de Inglaterra, o hallar el modo de rechazarlo y esperar a Enrique.'},\n",
       " {'titulo': 'Un Secuestro Cortés',\n",
       "  'clasificacion': 'SAM16',\n",
       "  'duracion': '55 MIN',\n",
       "  'año': '2019',\n",
       "  'sinopsis': 'El trono inglés parece estar al alcance de las manos de Catalina, pero un desafortunado giro del destino hace que su futuro ahora esté en manos de su inestable hermana'},\n",
       " {'titulo': 'Todo Está Perdido',\n",
       "  'clasificacion': 'SAM16',\n",
       "  'duracion': '54 MIN',\n",
       "  'año': '2019',\n",
       "  'sinopsis': 'Todo el país sufre. Catalina apenas es reconocida como la Princesa Española y Maggie está desahuciada, pero Catalina está decidida a no abandonar su destino.'},\n",
       " {'titulo': 'Destino',\n",
       "  'clasificacion': 'SAM16',\n",
       "  'duracion': '60 MIN',\n",
       "  'año': '2019',\n",
       "  'sinopsis': 'El destino de Inglaterra pende de un hilo cuando la familia Tudor es sacudida por la tragedia. Catalina arriesga todo para averiguar si Enrique aún la ama.'},\n",
       " {'titulo': 'Camelot',\n",
       "  'clasificacion': 'SAM16',\n",
       "  'duracion': '58 MIN',\n",
       "  'año': '2020',\n",
       "  'sinopsis': 'Con una poderosa alianza con España y un heredero durmiendo en su cuna, ¿qué podría salir mal para la glamorosa pareja real de Catalina y Enrique?'},\n",
       " {'titulo': 'Flodden',\n",
       "  'clasificacion': 'SAM16',\n",
       "  'duracion': '56 MIN',\n",
       "  'año': '2020',\n",
       "  'sinopsis': 'Enrique invade Francia, dejando a una embarazada Catalina para defender a Inglaterra del rey escocés James IV. Que la batalla de Flodden comienze…'},\n",
       " {'titulo': 'Duelo',\n",
       "  'clasificacion': 'SAM16',\n",
       "  'duracion': '57 MIN',\n",
       "  'año': '2020',\n",
       "  'sinopsis': 'Mientras Catalina lucha por restaurar su matrimonio después de otra tragedia, Meg debe encontrar la manera de mantener Escocia a flote después de la sangrienta batalla de'},\n",
       " {'titulo': 'La Otra Mujer',\n",
       "  'clasificacion': 'SAM16',\n",
       "  'duracion': '58 MIN',\n",
       "  'año': '2020',\n",
       "  'sinopsis': 'Mientras Meg pone en peligro todo por amor, una embarazada Catalina lucha con la repugnante sospecha de que Enrique le está siendo infiel.'},\n",
       " {'titulo': 'Plaga',\n",
       "  'clasificacion': 'SAM16',\n",
       "  'duracion': '58 MIN',\n",
       "  'año': '2020',\n",
       "  'sinopsis': 'Cuando la plaga golpea Londres, la corte huye a Hampton Court, pero Maggie y Thomas More permanecen en el palacio vacío y sorprendentemente romántico.'},\n",
       " {'titulo': 'El campo de tela de oro',\n",
       "  'clasificacion': 'SAM16',\n",
       "  'duracion': '56 MIN',\n",
       "  'año': '2020',\n",
       "  'sinopsis': 'Una gran reunión en Francia es el telón de fondo para un choque político de ingenio entre Catalina y Wolsey, mientras que, en Londres, estallan disturbios.'},\n",
       " {'titulo': 'Fe',\n",
       "  'clasificacion': 'SAM16',\n",
       "  'duracion': '59 MIN',\n",
       "  'año': '2020',\n",
       "  'sinopsis': 'Una nueva religión está en ascenso, así como la tensión en la corte. Catalina debe evitar que la peligrosa paranoia de Enrique convierta a sus amigos en enemigos…'},\n",
       " {'titulo': 'Paz',\n",
       "  'clasificacion': 'SAM16',\n",
       "  'duracion': '59 MIN',\n",
       "  'año': '2020',\n",
       "  'sinopsis': 'Mientas Enrique se sumerge en la locura, las apuestas nunca han sido tan altas para Catalina. Su esposo se ha convertido en una amenaza para su vida.'},\n",
       " {'titulo': 'Tráiler oficial',\n",
       "  'clasificacion': 'SAM16',\n",
       "  'duracion': '1 MIN',\n",
       "  'año': '2020',\n",
       "  'sinopsis': 'La princesa española vuelve para seguir con la historia de la reina Catalina y Enrique VIII. Pese a mostrar su valor en la corte, Catalina lucha por salvar su amor con el'}]"
      ]
     },
     "execution_count": 119,
     "metadata": {},
     "output_type": "execute_result"
    }
   ],
   "source": [
    "lista_episodios_final"
   ]
  },
  {
   "cell_type": "code",
   "execution_count": 120,
   "metadata": {},
   "outputs": [],
   "source": [
    "df = pd.DataFrame(lista_episodios_final)"
   ]
  },
  {
   "cell_type": "code",
   "execution_count": 121,
   "metadata": {},
   "outputs": [
    {
     "data": {
      "text/html": [
       "<div>\n",
       "<style scoped>\n",
       "    .dataframe tbody tr th:only-of-type {\n",
       "        vertical-align: middle;\n",
       "    }\n",
       "\n",
       "    .dataframe tbody tr th {\n",
       "        vertical-align: top;\n",
       "    }\n",
       "\n",
       "    .dataframe thead th {\n",
       "        text-align: right;\n",
       "    }\n",
       "</style>\n",
       "<table border=\"1\" class=\"dataframe\">\n",
       "  <thead>\n",
       "    <tr style=\"text-align: right;\">\n",
       "      <th></th>\n",
       "      <th>titulo</th>\n",
       "      <th>clasificacion</th>\n",
       "      <th>duracion</th>\n",
       "      <th>año</th>\n",
       "      <th>sinopsis</th>\n",
       "    </tr>\n",
       "  </thead>\n",
       "  <tbody>\n",
       "    <tr>\n",
       "      <th>0</th>\n",
       "      <td>El Nuevo Mundo</td>\n",
       "      <td>SAM16</td>\n",
       "      <td>55 MIN</td>\n",
       "      <td>2019</td>\n",
       "      <td>Catalina de Aragón llega a Inglaterra para cas...</td>\n",
       "    </tr>\n",
       "    <tr>\n",
       "      <th>1</th>\n",
       "      <td>Sueño Febril</td>\n",
       "      <td>SAM16</td>\n",
       "      <td>57 MIN</td>\n",
       "      <td>2019</td>\n",
       "      <td>Catalina está un paso más cerca del trono ingl...</td>\n",
       "    </tr>\n",
       "    <tr>\n",
       "      <th>2</th>\n",
       "      <td>Un Plan Audaz</td>\n",
       "      <td>SAM16</td>\n",
       "      <td>54 MIN</td>\n",
       "      <td>2019</td>\n",
       "      <td>Catalina está decidida a ser la futura Reina d...</td>\n",
       "    </tr>\n",
       "    <tr>\n",
       "      <th>3</th>\n",
       "      <td>La Batalla por Enrique</td>\n",
       "      <td>SAM16</td>\n",
       "      <td>56 MIN</td>\n",
       "      <td>2019</td>\n",
       "      <td>Mientras la nación llora por la muerte de la R...</td>\n",
       "    </tr>\n",
       "    <tr>\n",
       "      <th>4</th>\n",
       "      <td>El Corazón se Enfrenta al Deber</td>\n",
       "      <td>SAM16</td>\n",
       "      <td>56 MIN</td>\n",
       "      <td>2019</td>\n",
       "      <td>Catalina se enfrenta a un dilema: casarse con ...</td>\n",
       "    </tr>\n",
       "    <tr>\n",
       "      <th>5</th>\n",
       "      <td>Un Secuestro Cortés</td>\n",
       "      <td>SAM16</td>\n",
       "      <td>55 MIN</td>\n",
       "      <td>2019</td>\n",
       "      <td>El trono inglés parece estar al alcance de las...</td>\n",
       "    </tr>\n",
       "    <tr>\n",
       "      <th>6</th>\n",
       "      <td>Todo Está Perdido</td>\n",
       "      <td>SAM16</td>\n",
       "      <td>54 MIN</td>\n",
       "      <td>2019</td>\n",
       "      <td>Todo el país sufre. Catalina apenas es reconoc...</td>\n",
       "    </tr>\n",
       "    <tr>\n",
       "      <th>7</th>\n",
       "      <td>Destino</td>\n",
       "      <td>SAM16</td>\n",
       "      <td>60 MIN</td>\n",
       "      <td>2019</td>\n",
       "      <td>El destino de Inglaterra pende de un hilo cuan...</td>\n",
       "    </tr>\n",
       "    <tr>\n",
       "      <th>8</th>\n",
       "      <td>Camelot</td>\n",
       "      <td>SAM16</td>\n",
       "      <td>58 MIN</td>\n",
       "      <td>2020</td>\n",
       "      <td>Con una poderosa alianza con España y un hered...</td>\n",
       "    </tr>\n",
       "    <tr>\n",
       "      <th>9</th>\n",
       "      <td>Flodden</td>\n",
       "      <td>SAM16</td>\n",
       "      <td>56 MIN</td>\n",
       "      <td>2020</td>\n",
       "      <td>Enrique invade Francia, dejando a una embaraza...</td>\n",
       "    </tr>\n",
       "    <tr>\n",
       "      <th>10</th>\n",
       "      <td>Duelo</td>\n",
       "      <td>SAM16</td>\n",
       "      <td>57 MIN</td>\n",
       "      <td>2020</td>\n",
       "      <td>Mientras Catalina lucha por restaurar su matri...</td>\n",
       "    </tr>\n",
       "    <tr>\n",
       "      <th>11</th>\n",
       "      <td>La Otra Mujer</td>\n",
       "      <td>SAM16</td>\n",
       "      <td>58 MIN</td>\n",
       "      <td>2020</td>\n",
       "      <td>Mientras Meg pone en peligro todo por amor, un...</td>\n",
       "    </tr>\n",
       "    <tr>\n",
       "      <th>12</th>\n",
       "      <td>Plaga</td>\n",
       "      <td>SAM16</td>\n",
       "      <td>58 MIN</td>\n",
       "      <td>2020</td>\n",
       "      <td>Cuando la plaga golpea Londres, la corte huye ...</td>\n",
       "    </tr>\n",
       "    <tr>\n",
       "      <th>13</th>\n",
       "      <td>El campo de tela de oro</td>\n",
       "      <td>SAM16</td>\n",
       "      <td>56 MIN</td>\n",
       "      <td>2020</td>\n",
       "      <td>Una gran reunión en Francia es el telón de fon...</td>\n",
       "    </tr>\n",
       "    <tr>\n",
       "      <th>14</th>\n",
       "      <td>Fe</td>\n",
       "      <td>SAM16</td>\n",
       "      <td>59 MIN</td>\n",
       "      <td>2020</td>\n",
       "      <td>Una nueva religión está en ascenso, así como l...</td>\n",
       "    </tr>\n",
       "    <tr>\n",
       "      <th>15</th>\n",
       "      <td>Paz</td>\n",
       "      <td>SAM16</td>\n",
       "      <td>59 MIN</td>\n",
       "      <td>2020</td>\n",
       "      <td>Mientas Enrique se sumerge en la locura, las a...</td>\n",
       "    </tr>\n",
       "    <tr>\n",
       "      <th>16</th>\n",
       "      <td>Tráiler oficial</td>\n",
       "      <td>SAM16</td>\n",
       "      <td>1 MIN</td>\n",
       "      <td>2020</td>\n",
       "      <td>La princesa española vuelve para seguir con la...</td>\n",
       "    </tr>\n",
       "  </tbody>\n",
       "</table>\n",
       "</div>"
      ],
      "text/plain": [
       "                             titulo clasificacion duracion   año  \\\n",
       "0                    El Nuevo Mundo         SAM16   55 MIN  2019   \n",
       "1                      Sueño Febril         SAM16   57 MIN  2019   \n",
       "2                     Un Plan Audaz         SAM16   54 MIN  2019   \n",
       "3            La Batalla por Enrique         SAM16   56 MIN  2019   \n",
       "4   El Corazón se Enfrenta al Deber         SAM16   56 MIN  2019   \n",
       "5               Un Secuestro Cortés         SAM16   55 MIN  2019   \n",
       "6                 Todo Está Perdido         SAM16   54 MIN  2019   \n",
       "7                           Destino         SAM16   60 MIN  2019   \n",
       "8                           Camelot         SAM16   58 MIN  2020   \n",
       "9                           Flodden         SAM16   56 MIN  2020   \n",
       "10                            Duelo         SAM16   57 MIN  2020   \n",
       "11                    La Otra Mujer         SAM16   58 MIN  2020   \n",
       "12                            Plaga         SAM16   58 MIN  2020   \n",
       "13          El campo de tela de oro         SAM16   56 MIN  2020   \n",
       "14                               Fe         SAM16   59 MIN  2020   \n",
       "15                              Paz         SAM16   59 MIN  2020   \n",
       "16                  Tráiler oficial         SAM16    1 MIN  2020   \n",
       "\n",
       "                                             sinopsis  \n",
       "0   Catalina de Aragón llega a Inglaterra para cas...  \n",
       "1   Catalina está un paso más cerca del trono ingl...  \n",
       "2   Catalina está decidida a ser la futura Reina d...  \n",
       "3   Mientras la nación llora por la muerte de la R...  \n",
       "4   Catalina se enfrenta a un dilema: casarse con ...  \n",
       "5   El trono inglés parece estar al alcance de las...  \n",
       "6   Todo el país sufre. Catalina apenas es reconoc...  \n",
       "7   El destino de Inglaterra pende de un hilo cuan...  \n",
       "8   Con una poderosa alianza con España y un hered...  \n",
       "9   Enrique invade Francia, dejando a una embaraza...  \n",
       "10  Mientras Catalina lucha por restaurar su matri...  \n",
       "11  Mientras Meg pone en peligro todo por amor, un...  \n",
       "12  Cuando la plaga golpea Londres, la corte huye ...  \n",
       "13  Una gran reunión en Francia es el telón de fon...  \n",
       "14  Una nueva religión está en ascenso, así como l...  \n",
       "15  Mientas Enrique se sumerge en la locura, las a...  \n",
       "16  La princesa española vuelve para seguir con la...  "
      ]
     },
     "execution_count": 121,
     "metadata": {},
     "output_type": "execute_result"
    }
   ],
   "source": [
    "df"
   ]
  },
  {
   "cell_type": "code",
   "execution_count": 132,
   "metadata": {},
   "outputs": [],
   "source": [
    "df.to_csv('datasets/'+titulo_serie+'_lista_de_episodios.csv')"
   ]
  },
  {
   "cell_type": "code",
   "execution_count": 133,
   "metadata": {},
   "outputs": [],
   "source": [
    "df.to_json('datasets/'+titulo_serie+'_lista_de_episodios.json')"
   ]
  },
  {
   "cell_type": "code",
   "execution_count": 134,
   "metadata": {},
   "outputs": [],
   "source": [
    "driver.quit()"
   ]
  },
  {
   "cell_type": "code",
   "execution_count": null,
   "metadata": {},
   "outputs": [],
   "source": []
  }
 ],
 "metadata": {
  "kernelspec": {
   "display_name": "Python 3",
   "language": "python",
   "name": "python3"
  },
  "language_info": {
   "codemirror_mode": {
    "name": "ipython",
    "version": 3
   },
   "file_extension": ".py",
   "mimetype": "text/x-python",
   "name": "python",
   "nbconvert_exporter": "python",
   "pygments_lexer": "ipython3",
   "version": "3.8.1"
  }
 },
 "nbformat": 4,
 "nbformat_minor": 4
}
